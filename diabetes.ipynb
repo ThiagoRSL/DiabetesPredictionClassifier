{
 "cells": [
  {
   "cell_type": "markdown",
   "id": "6175060f-397f-49a9-9024-935956fc0a6c",
   "metadata": {},
   "source": [
    "## Setting up to Work"
   ]
  },
  {
   "cell_type": "markdown",
   "id": "d0cc20c5-73de-4fd1-a0c3-e8dcf96597af",
   "metadata": {},
   "source": [
    "The first part of the process, importing the libraries and depend"
   ]
  },
  {
   "cell_type": "code",
   "execution_count": 1,
   "id": "538b360e-c563-4015-9098-e0bc317112cf",
   "metadata": {},
   "outputs": [],
   "source": [
    "import pandas as pd\n",
    "from sklearn.model_selection import train_test_split\n",
    "from sklearn.feature_selection import mutual_info_classif\n",
    "from sklearn.preprocessing import OneHotEncoder, OrdinalEncoder\n",
    "from sklearn.compose import ColumnTransformer\n",
    "from sklearn.decomposition import PCA\n",
    "from sklearn.ensemble import GradientBoostingClassifier, RandomForestClassifier\n",
    "from sklearn.metrics import classification_report, confusion_matrix\n"
   ]
  },
  {
   "cell_type": "markdown",
   "id": "a8f3b688-a325-475d-b92c-b1c3b199edab",
   "metadata": {},
   "source": [
    "Loading dataset, after downloading it from kaggle: https://www.kaggle.com/datasets/iammustafatz/diabetes-prediction-dataset."
   ]
  },
  {
   "cell_type": "code",
   "execution_count": 2,
   "id": "8b9b17e0-25b2-4cda-b3f2-4d431c909962",
   "metadata": {},
   "outputs": [],
   "source": [
    "df = pd.read_csv(\"diabetes_prediction_dataset.csv\")\n"
   ]
  },
  {
   "cell_type": "markdown",
   "id": "2af6746e-eb6f-4067-90b9-db8d7b9cc397",
   "metadata": {},
   "source": [
    "## Exploratory Data Analysis"
   ]
  },
  {
   "cell_type": "markdown",
   "id": "9c868351-8a3d-4d36-8540-6f0db7fac962",
   "metadata": {},
   "source": [
    "The first steps are to understand the data, in order to do so, first we may get some general information about the dataset through the `head()`, `info()` and `describe()`."
   ]
  },
  {
   "cell_type": "code",
   "execution_count": 3,
   "id": "d13223a1-8174-4d70-957f-42db0229d841",
   "metadata": {},
   "outputs": [
    {
     "data": {
      "text/html": [
       "<div>\n",
       "<style scoped>\n",
       "    .dataframe tbody tr th:only-of-type {\n",
       "        vertical-align: middle;\n",
       "    }\n",
       "\n",
       "    .dataframe tbody tr th {\n",
       "        vertical-align: top;\n",
       "    }\n",
       "\n",
       "    .dataframe thead th {\n",
       "        text-align: right;\n",
       "    }\n",
       "</style>\n",
       "<table border=\"1\" class=\"dataframe\">\n",
       "  <thead>\n",
       "    <tr style=\"text-align: right;\">\n",
       "      <th></th>\n",
       "      <th>gender</th>\n",
       "      <th>age</th>\n",
       "      <th>hypertension</th>\n",
       "      <th>heart_disease</th>\n",
       "      <th>smoking_history</th>\n",
       "      <th>bmi</th>\n",
       "      <th>HbA1c_level</th>\n",
       "      <th>blood_glucose_level</th>\n",
       "      <th>diabetes</th>\n",
       "    </tr>\n",
       "  </thead>\n",
       "  <tbody>\n",
       "    <tr>\n",
       "      <th>0</th>\n",
       "      <td>Female</td>\n",
       "      <td>80.0</td>\n",
       "      <td>0</td>\n",
       "      <td>1</td>\n",
       "      <td>never</td>\n",
       "      <td>25.19</td>\n",
       "      <td>6.6</td>\n",
       "      <td>140</td>\n",
       "      <td>0</td>\n",
       "    </tr>\n",
       "    <tr>\n",
       "      <th>1</th>\n",
       "      <td>Female</td>\n",
       "      <td>54.0</td>\n",
       "      <td>0</td>\n",
       "      <td>0</td>\n",
       "      <td>No Info</td>\n",
       "      <td>27.32</td>\n",
       "      <td>6.6</td>\n",
       "      <td>80</td>\n",
       "      <td>0</td>\n",
       "    </tr>\n",
       "    <tr>\n",
       "      <th>2</th>\n",
       "      <td>Male</td>\n",
       "      <td>28.0</td>\n",
       "      <td>0</td>\n",
       "      <td>0</td>\n",
       "      <td>never</td>\n",
       "      <td>27.32</td>\n",
       "      <td>5.7</td>\n",
       "      <td>158</td>\n",
       "      <td>0</td>\n",
       "    </tr>\n",
       "    <tr>\n",
       "      <th>3</th>\n",
       "      <td>Female</td>\n",
       "      <td>36.0</td>\n",
       "      <td>0</td>\n",
       "      <td>0</td>\n",
       "      <td>current</td>\n",
       "      <td>23.45</td>\n",
       "      <td>5.0</td>\n",
       "      <td>155</td>\n",
       "      <td>0</td>\n",
       "    </tr>\n",
       "    <tr>\n",
       "      <th>4</th>\n",
       "      <td>Male</td>\n",
       "      <td>76.0</td>\n",
       "      <td>1</td>\n",
       "      <td>1</td>\n",
       "      <td>current</td>\n",
       "      <td>20.14</td>\n",
       "      <td>4.8</td>\n",
       "      <td>155</td>\n",
       "      <td>0</td>\n",
       "    </tr>\n",
       "  </tbody>\n",
       "</table>\n",
       "</div>"
      ],
      "text/plain": [
       "   gender   age  hypertension  heart_disease smoking_history    bmi  \\\n",
       "0  Female  80.0             0              1           never  25.19   \n",
       "1  Female  54.0             0              0         No Info  27.32   \n",
       "2    Male  28.0             0              0           never  27.32   \n",
       "3  Female  36.0             0              0         current  23.45   \n",
       "4    Male  76.0             1              1         current  20.14   \n",
       "\n",
       "   HbA1c_level  blood_glucose_level  diabetes  \n",
       "0          6.6                  140         0  \n",
       "1          6.6                   80         0  \n",
       "2          5.7                  158         0  \n",
       "3          5.0                  155         0  \n",
       "4          4.8                  155         0  "
      ]
     },
     "execution_count": 3,
     "metadata": {},
     "output_type": "execute_result"
    }
   ],
   "source": [
    "df.head()"
   ]
  },
  {
   "cell_type": "code",
   "execution_count": 4,
   "id": "abee033c-4469-41c0-9b9a-d904f719f3dd",
   "metadata": {},
   "outputs": [
    {
     "name": "stdout",
     "output_type": "stream",
     "text": [
      "<class 'pandas.core.frame.DataFrame'>\n",
      "RangeIndex: 100000 entries, 0 to 99999\n",
      "Data columns (total 9 columns):\n",
      " #   Column               Non-Null Count   Dtype  \n",
      "---  ------               --------------   -----  \n",
      " 0   gender               100000 non-null  object \n",
      " 1   age                  100000 non-null  float64\n",
      " 2   hypertension         100000 non-null  int64  \n",
      " 3   heart_disease        100000 non-null  int64  \n",
      " 4   smoking_history      100000 non-null  object \n",
      " 5   bmi                  100000 non-null  float64\n",
      " 6   HbA1c_level          100000 non-null  float64\n",
      " 7   blood_glucose_level  100000 non-null  int64  \n",
      " 8   diabetes             100000 non-null  int64  \n",
      "dtypes: float64(3), int64(4), object(2)\n",
      "memory usage: 6.9+ MB\n"
     ]
    }
   ],
   "source": [
    "df.info()"
   ]
  },
  {
   "cell_type": "code",
   "execution_count": 5,
   "id": "0c05d5f0-e371-4ddb-8b30-aee1bb320204",
   "metadata": {},
   "outputs": [
    {
     "data": {
      "text/html": [
       "<div>\n",
       "<style scoped>\n",
       "    .dataframe tbody tr th:only-of-type {\n",
       "        vertical-align: middle;\n",
       "    }\n",
       "\n",
       "    .dataframe tbody tr th {\n",
       "        vertical-align: top;\n",
       "    }\n",
       "\n",
       "    .dataframe thead th {\n",
       "        text-align: right;\n",
       "    }\n",
       "</style>\n",
       "<table border=\"1\" class=\"dataframe\">\n",
       "  <thead>\n",
       "    <tr style=\"text-align: right;\">\n",
       "      <th></th>\n",
       "      <th>age</th>\n",
       "      <th>hypertension</th>\n",
       "      <th>heart_disease</th>\n",
       "      <th>bmi</th>\n",
       "      <th>HbA1c_level</th>\n",
       "      <th>blood_glucose_level</th>\n",
       "      <th>diabetes</th>\n",
       "    </tr>\n",
       "  </thead>\n",
       "  <tbody>\n",
       "    <tr>\n",
       "      <th>count</th>\n",
       "      <td>100000.000000</td>\n",
       "      <td>100000.00000</td>\n",
       "      <td>100000.000000</td>\n",
       "      <td>100000.000000</td>\n",
       "      <td>100000.000000</td>\n",
       "      <td>100000.000000</td>\n",
       "      <td>100000.000000</td>\n",
       "    </tr>\n",
       "    <tr>\n",
       "      <th>mean</th>\n",
       "      <td>41.885856</td>\n",
       "      <td>0.07485</td>\n",
       "      <td>0.039420</td>\n",
       "      <td>27.320767</td>\n",
       "      <td>5.527507</td>\n",
       "      <td>138.058060</td>\n",
       "      <td>0.085000</td>\n",
       "    </tr>\n",
       "    <tr>\n",
       "      <th>std</th>\n",
       "      <td>22.516840</td>\n",
       "      <td>0.26315</td>\n",
       "      <td>0.194593</td>\n",
       "      <td>6.636783</td>\n",
       "      <td>1.070672</td>\n",
       "      <td>40.708136</td>\n",
       "      <td>0.278883</td>\n",
       "    </tr>\n",
       "    <tr>\n",
       "      <th>min</th>\n",
       "      <td>0.080000</td>\n",
       "      <td>0.00000</td>\n",
       "      <td>0.000000</td>\n",
       "      <td>10.010000</td>\n",
       "      <td>3.500000</td>\n",
       "      <td>80.000000</td>\n",
       "      <td>0.000000</td>\n",
       "    </tr>\n",
       "    <tr>\n",
       "      <th>25%</th>\n",
       "      <td>24.000000</td>\n",
       "      <td>0.00000</td>\n",
       "      <td>0.000000</td>\n",
       "      <td>23.630000</td>\n",
       "      <td>4.800000</td>\n",
       "      <td>100.000000</td>\n",
       "      <td>0.000000</td>\n",
       "    </tr>\n",
       "    <tr>\n",
       "      <th>50%</th>\n",
       "      <td>43.000000</td>\n",
       "      <td>0.00000</td>\n",
       "      <td>0.000000</td>\n",
       "      <td>27.320000</td>\n",
       "      <td>5.800000</td>\n",
       "      <td>140.000000</td>\n",
       "      <td>0.000000</td>\n",
       "    </tr>\n",
       "    <tr>\n",
       "      <th>75%</th>\n",
       "      <td>60.000000</td>\n",
       "      <td>0.00000</td>\n",
       "      <td>0.000000</td>\n",
       "      <td>29.580000</td>\n",
       "      <td>6.200000</td>\n",
       "      <td>159.000000</td>\n",
       "      <td>0.000000</td>\n",
       "    </tr>\n",
       "    <tr>\n",
       "      <th>max</th>\n",
       "      <td>80.000000</td>\n",
       "      <td>1.00000</td>\n",
       "      <td>1.000000</td>\n",
       "      <td>95.690000</td>\n",
       "      <td>9.000000</td>\n",
       "      <td>300.000000</td>\n",
       "      <td>1.000000</td>\n",
       "    </tr>\n",
       "  </tbody>\n",
       "</table>\n",
       "</div>"
      ],
      "text/plain": [
       "                 age  hypertension  heart_disease            bmi  \\\n",
       "count  100000.000000  100000.00000  100000.000000  100000.000000   \n",
       "mean       41.885856       0.07485       0.039420      27.320767   \n",
       "std        22.516840       0.26315       0.194593       6.636783   \n",
       "min         0.080000       0.00000       0.000000      10.010000   \n",
       "25%        24.000000       0.00000       0.000000      23.630000   \n",
       "50%        43.000000       0.00000       0.000000      27.320000   \n",
       "75%        60.000000       0.00000       0.000000      29.580000   \n",
       "max        80.000000       1.00000       1.000000      95.690000   \n",
       "\n",
       "         HbA1c_level  blood_glucose_level       diabetes  \n",
       "count  100000.000000        100000.000000  100000.000000  \n",
       "mean        5.527507           138.058060       0.085000  \n",
       "std         1.070672            40.708136       0.278883  \n",
       "min         3.500000            80.000000       0.000000  \n",
       "25%         4.800000           100.000000       0.000000  \n",
       "50%         5.800000           140.000000       0.000000  \n",
       "75%         6.200000           159.000000       0.000000  \n",
       "max         9.000000           300.000000       1.000000  "
      ]
     },
     "execution_count": 5,
     "metadata": {},
     "output_type": "execute_result"
    }
   ],
   "source": [
    "df.describe()"
   ]
  },
  {
   "cell_type": "markdown",
   "id": "5c06bb65-5129-4e80-8939-97b875983abd",
   "metadata": {},
   "source": [
    "So, after a brief analysis we may conclude:\n",
    "- There are a plentiful number of data available, 100.000 cases.\n",
    "- The data doesn't contain any explicit error-leading missing values such as NAs, but it has the `No info` class of `smoking_history`.\n",
    "- There are two categorical variables, `gender` and `smoking_history`, both will have to be transformed to a numerical value.\n",
    "- `diabetes`, the target, is a boolean value and have a mean of 0.085. Meaning that only 8.5% of the cases in fact have diabetes implying on a unbalanced dataset."
   ]
  },
  {
   "cell_type": "markdown",
   "id": "b1582abb-8484-48a9-b304-63a1644bf571",
   "metadata": {},
   "source": [
    "Next, we going to analyse the `smoking_history` feature as it appears to be problematic for being a categorical feature with missing values. \n",
    "\n",
    "The first step is to check the possible values this feature can take and their respective frequencies. As shown in the next cell, this feature has a couple of issues:\n",
    "- `No Info` appears in 35916 cases, meaning that more than one-third of the cases has a unespecified value on this feature (missing data).\n",
    "- There are ambiguous and overlapping categories. For example, `not current` could mean the same as `former` or `never`, and the criteria that distinguise `ever` from `current` is poorly defined.\n",
    "\n",
    "Considering the high number of unkown values and the ambiguity in class definition, a further evaluations is needed to assess this feature impact on the target prediction. This will help justify the efford of keeping this feature, or determine if it should be discarded."
   ]
  },
  {
   "cell_type": "code",
   "execution_count": 6,
   "id": "db9d3902-750c-45df-9779-876ad189901b",
   "metadata": {},
   "outputs": [
    {
     "data": {
      "text/plain": [
       "smoking_history\n",
       "No Info        35816\n",
       "never          35095\n",
       "former          9352\n",
       "current         9286\n",
       "not current     6447\n",
       "ever            4004\n",
       "Name: count, dtype: int64"
      ]
     },
     "execution_count": 6,
     "metadata": {},
     "output_type": "execute_result"
    }
   ],
   "source": [
    "df['smoking_history'].value_counts()"
   ]
  },
  {
   "cell_type": "markdown",
   "id": "93ac6d59-a7bb-41e2-896e-8e5cd6df8018",
   "metadata": {},
   "source": [
    "In order to further evaluate, we'll define a `ColumnTransformer` and transform the categorical values through the One-Hot Encoding. With the categorical data transformed, we can then use some feature metrics, such as Mutual Information score and correlation, to understand the features relevance to the target."
   ]
  },
  {
   "cell_type": "code",
   "execution_count": 7,
   "id": "5a609ce8-983e-4a87-91da-ca21434e06de",
   "metadata": {},
   "outputs": [],
   "source": [
    "# Separetes the Features from the Target.\n",
    "X = df.drop(['diabetes'], axis=1)\n",
    "y = df['diabetes']\n",
    "\n",
    "CT = ColumnTransformer(\n",
    "    transformers = [ \n",
    "        ('onehot', OneHotEncoder(sparse_output=False, categories='auto'), ['gender', 'smoking_history']), #sparse_output=False\n",
    "        #('ordinal', OrdinalEncoder(categories=[['never','No Info', 'not current', 'former', 'current', 'ever']]), ['smoking_history']) #sparse_output=False\n",
    "    ],\t\n",
    "    remainder='passthrough'\n",
    ")"
   ]
  },
  {
   "cell_type": "code",
   "execution_count": 8,
   "id": "8805fe42-bb18-48ef-aa12-ae9b6bf8cbe7",
   "metadata": {},
   "outputs": [],
   "source": [
    "# Applies the OneHot onto categorical features.\n",
    "X_encoded = CT.fit_transform(X[['gender', 'smoking_history']])\n",
    "encoded_cols = CT.get_feature_names_out(['gender', 'smoking_history'])\n",
    "\n",
    "X_encoded_df = pd.DataFrame(X_encoded, columns=encoded_cols, index=X.index)\n",
    "X_features = pd.concat([X.drop(['gender', 'smoking_history'], axis=1), X_encoded_df], axis=1)"
   ]
  },
  {
   "cell_type": "markdown",
   "id": "4ee96c9e-c566-4389-ab75-f04abad7d540",
   "metadata": {},
   "source": [
    "### Correlation\n",
    "Analyzing the correlation between the features and the target variable, allows us to see which of the features are most strong linear related to the target."
   ]
  },
  {
   "cell_type": "code",
   "execution_count": 9,
   "id": "605874fa-716a-4796-961e-6e79eeed724b",
   "metadata": {},
   "outputs": [
    {
     "data": {
      "text/plain": [
       "diabetes                               1.000000\n",
       "blood_glucose_level                    0.419558\n",
       "HbA1c_level                            0.400660\n",
       "age                                    0.258008\n",
       "bmi                                    0.214357\n",
       "hypertension                           0.197823\n",
       "heart_disease                          0.171727\n",
       "onehot__smoking_history_former         0.097917\n",
       "onehot__gender_Male                    0.037666\n",
       "onehot__smoking_history_never          0.027267\n",
       "onehot__smoking_history_ever           0.024080\n",
       "onehot__smoking_history_not current    0.020734\n",
       "onehot__smoking_history_current        0.019606\n",
       "onehot__gender_Other                  -0.004090\n",
       "onehot__gender_Female                 -0.037553\n",
       "onehot__smoking_history_No Info       -0.118939\n",
       "Name: diabetes, dtype: float64"
      ]
     },
     "execution_count": 9,
     "metadata": {},
     "output_type": "execute_result"
    }
   ],
   "source": [
    "df_trans = pd.concat([X_features, y], axis=1)\n",
    "df_trans.corr()['diabetes'].sort_values(ascending=False)\n"
   ]
  },
  {
   "cell_type": "markdown",
   "id": "49c649e1-3c5d-4d5e-9976-3ee051b54584",
   "metadata": {},
   "source": [
    "### Mutual Information\n",
    "Mutual Information can capture many types of relationships that each variable may have with the target, not being limited by linear associations only."
   ]
  },
  {
   "cell_type": "code",
   "execution_count": 10,
   "id": "34f5c4fa-6374-4697-a547-16abc5d127b1",
   "metadata": {},
   "outputs": [
    {
     "name": "stdout",
     "output_type": "stream",
     "text": [
      "                                Feature  MI Score\n",
      "4                           HbA1c_level  0.131206\n",
      "5                   blood_glucose_level  0.113297\n",
      "0                                   age  0.040411\n",
      "3                                   bmi  0.025506\n",
      "6                 onehot__gender_Female  0.015173\n",
      "9       onehot__smoking_history_No Info  0.014267\n",
      "1                          hypertension  0.014167\n",
      "7                   onehot__gender_Male  0.009698\n",
      "2                         heart_disease  0.009176\n",
      "13        onehot__smoking_history_never  0.006378\n",
      "12       onehot__smoking_history_former  0.004425\n",
      "14  onehot__smoking_history_not current  0.000464\n",
      "11         onehot__smoking_history_ever  0.000210\n",
      "10      onehot__smoking_history_current  0.000000\n",
      "8                  onehot__gender_Other  0.000000\n"
     ]
    }
   ],
   "source": [
    "# Calcula a MI\n",
    "mi_scores = mutual_info_classif(X_features, y)\n",
    "\n",
    "# Exibe os resultados\n",
    "mi_df = pd.DataFrame({'Feature': X_features.columns, 'MI Score': mi_scores})\n",
    "print(mi_df.sort_values(by='MI Score', ascending=False))\n"
   ]
  },
  {
   "cell_type": "markdown",
   "id": "23902358-acad-4d6a-8c50-8ab99f582478",
   "metadata": {},
   "source": [
    "### PCA\n",
    "Using PCA we may obtain valueble information about components made using the linear combination of the available data."
   ]
  },
  {
   "cell_type": "code",
   "execution_count": 11,
   "id": "9d483e3b-6bed-49d6-b650-d731bb891e78",
   "metadata": {},
   "outputs": [
    {
     "name": "stdout",
     "output_type": "stream",
     "text": [
      "                          PC1       PC2       PC3       PC4       PC5\n",
      "age                  0.566264 -0.265468 -0.057950 -0.156845 -0.023003\n",
      "hypertension         0.421370 -0.175895  0.029841  0.864849  0.076444\n",
      "heart_disease        0.352297 -0.143349  0.818735 -0.296400 -0.018912\n",
      "bmi                  0.456550 -0.218234 -0.569784 -0.360819 -0.056236\n",
      "HbA1c_level          0.284349  0.656053  0.000659  0.058274 -0.696617\n",
      "blood_glucose_level  0.297298  0.632461 -0.027746 -0.077440  0.710515\n"
     ]
    }
   ],
   "source": [
    "X_filtered = X_features[[\"age\", \"hypertension\", \"heart_disease\", \"bmi\", \"HbA1c_level\", \"blood_glucose_level\"]]\n",
    "X_scaled = (X_filtered - X_filtered.mean(axis=0)) / X_filtered.std(axis=0)\n",
    "\n",
    "pca = PCA(n_components=5)\n",
    "X_pca = pca.fit_transform(X_scaled)\n",
    "\n",
    "comp_names = [f\"PC{i+1}\" for i in range(X_pca.shape[1])]\n",
    "X_pca = pd.DataFrame(X_pca, columns=comp_names)\n",
    "\n",
    "loadings = pd.DataFrame(\n",
    "    pca.components_.T,\n",
    "    columns=comp_names,\n",
    "    index=X_filtered.columns,  \n",
    ")\n",
    "print(loadings)"
   ]
  },
  {
   "cell_type": "code",
   "execution_count": 12,
   "id": "ed029b30-ec2f-414c-9601-d57e8d67bb1e",
   "metadata": {},
   "outputs": [
    {
     "name": "stdout",
     "output_type": "stream",
     "text": [
      "  Feature  MI Score\n",
      "0     PC1  0.112041\n",
      "1     PC2  0.073293\n",
      "2     PC3  0.043265\n",
      "3     PC4  0.052733\n",
      "4     PC5  0.037863\n"
     ]
    }
   ],
   "source": [
    "mi_scores = mutual_info_classif(X_pca, y)\n",
    "mi_df = pd.DataFrame({'Feature': X_pca.columns, 'MI Score': mi_scores})\n",
    "print(mi_df)"
   ]
  },
  {
   "cell_type": "markdown",
   "id": "d3e196a7-8423-421a-9b95-b40a0aaa5bbc",
   "metadata": {},
   "source": [
    "## Feature Selection and Preprocessing\n",
    "Now, it's time to select the features that we'll use on our prediction. As we saw that the smoking history isn't a particularly good feature to invest in this case, we'll exclude it from the selected features. After that, we'll split our dataset to use 75% of it to training and the other 25% to test our prediction model."
   ]
  },
  {
   "cell_type": "code",
   "execution_count": 13,
   "id": "6d47e155-5365-4003-876a-b52ebfe8bfde",
   "metadata": {},
   "outputs": [],
   "source": [
    "# Separetes the Features from the Target.\n",
    "X = df.drop(['diabetes', 'smoking_history'], axis=1)\n",
    "y = df['diabetes']\n",
    "\n",
    "CT = ColumnTransformer(\n",
    "    transformers = [ \n",
    "        ('onehot', OneHotEncoder(sparse_output=False, categories='auto'), ['gender']), #sparse_output=False\n",
    "    ],\t\n",
    "    remainder='passthrough'\n",
    ")\n",
    "\n",
    "# Applies the OneHot onto categorical features.\n",
    "X_encoded = CT.fit_transform(X[['gender']])\n",
    "encoded_cols = CT.get_feature_names_out(['gender'])\n",
    "\n",
    "X_encoded_df = pd.DataFrame(X_encoded, columns=encoded_cols, index=X.index)\n",
    "X_features = pd.concat([X.drop(['gender'], axis=1), X_encoded_df], axis=1)\n"
   ]
  },
  {
   "cell_type": "markdown",
   "id": "e3f9b166-3d5e-45cd-ad02-434a42a879d9",
   "metadata": {},
   "source": [
    "As we saw earlier on the EDA, the dataset we're using is unbalanced. The target `diabetes` has the value of 0 much more frequently than 1, with 91.5% of the cases being 0 and 8.5% being 1. In order to ensure that the data will be splitted in a way that keeps the original distribution, we will set it to stratify the split based on the target values."
   ]
  },
  {
   "cell_type": "code",
   "execution_count": 14,
   "id": "52b52817-612f-41bb-a2b8-b698401baadf",
   "metadata": {},
   "outputs": [],
   "source": [
    "X_train, X_test, y_train, y_test = train_test_split(X_features, y, stratify=y)"
   ]
  },
  {
   "cell_type": "markdown",
   "id": "a7d4210e-1913-454f-8df0-bff96fbf65df",
   "metadata": {},
   "source": [
    "## Modeling\n",
    "Here we're going to train a Gradient Boosting with 400 decision trees, fitting it to the train data."
   ]
  },
  {
   "cell_type": "code",
   "execution_count": 23,
   "id": "9694a3f2-6d9c-4fde-b294-a90bb36f06a0",
   "metadata": {},
   "outputs": [],
   "source": [
    "model = GradientBoostingClassifier(n_estimators = 400, random_state=0).fit(X_train, y_train)"
   ]
  },
  {
   "cell_type": "markdown",
   "id": "ffae90d8-7edd-4ff4-b8fe-823be7b32e45",
   "metadata": {},
   "source": [
    "It is very important to evaluate the classification report wisely. Precision isn't the only thing that cares, even more on this case as we've got a unbalanced dataset. So the recall and f1-score tells us that the model may be predicting a higher number of false negatives than it appears by only looking to the precision score."
   ]
  },
  {
   "cell_type": "code",
   "execution_count": 16,
   "id": "8d128abe-132b-4dfb-9d5c-64263031e129",
   "metadata": {},
   "outputs": [
    {
     "name": "stdout",
     "output_type": "stream",
     "text": [
      "              precision    recall  f1-score   support\n",
      "\n",
      "           0       0.97      1.00      0.98     22875\n",
      "           1       0.98      0.68      0.81      2125\n",
      "\n",
      "    accuracy                           0.97     25000\n",
      "   macro avg       0.98      0.84      0.89     25000\n",
      "weighted avg       0.97      0.97      0.97     25000\n",
      "\n",
      "[[22845    30]\n",
      " [  673  1452]]\n"
     ]
    }
   ],
   "source": [
    "y_pred = model.predict(X_test)\n",
    "print(classification_report(y_test, y_pred))\n",
    "print(confusion_matrix(y_test, y_pred))"
   ]
  },
  {
   "cell_type": "markdown",
   "id": "2fc62d9d-b5bb-40e1-a891-74ee345bf110",
   "metadata": {},
   "source": [
    "In fact, our model gets right 68% of the diabetics people diagnosed. We may trade a bit of false negatives with false positives by changing the confidence that our model has to have to consider a prediction of diabetes as true, using 0.3 of probability as a threshold to predict `True` instead of 0.5."
   ]
  },
  {
   "cell_type": "code",
   "execution_count": 17,
   "id": "fc14bfa3-f32b-486d-a2ff-adc03538f419",
   "metadata": {},
   "outputs": [
    {
     "name": "stdout",
     "output_type": "stream",
     "text": [
      "              precision    recall  f1-score   support\n",
      "\n",
      "           0       0.98      0.99      0.98     22875\n",
      "           1       0.86      0.74      0.79      2125\n",
      "\n",
      "    accuracy                           0.97     25000\n",
      "   macro avg       0.92      0.86      0.89     25000\n",
      "weighted avg       0.97      0.97      0.97     25000\n",
      "\n",
      "[[22610   265]\n",
      " [  559  1566]]\n"
     ]
    }
   ],
   "source": [
    "y_proba = model.predict_proba(X_test)[:, 1]\n",
    "y_pred = (y_proba >= 0.3).astype(int)\n",
    "\n",
    "print(classification_report(y_test, y_pred))\n",
    "cm = confusion_matrix(y_test, y_pred)\n",
    "print(cm)"
   ]
  },
  {
   "cell_type": "markdown",
   "id": "de88bb92-bcc6-41b3-af11-9e5fd135a551",
   "metadata": {},
   "source": [
    "In this context, the trade-off is justified because false negatives in medical diagnoses usually tend to represent a bigger problem than false positives."
   ]
  },
  {
   "cell_type": "code",
   "execution_count": null,
   "id": "cf22a9eb-891c-4b06-89e8-92dd29105928",
   "metadata": {},
   "outputs": [],
   "source": []
  }
 ],
 "metadata": {
  "kernelspec": {
   "display_name": "Python 3 (ipykernel)",
   "language": "python",
   "name": "python3"
  },
  "language_info": {
   "codemirror_mode": {
    "name": "ipython",
    "version": 3
   },
   "file_extension": ".py",
   "mimetype": "text/x-python",
   "name": "python",
   "nbconvert_exporter": "python",
   "pygments_lexer": "ipython3",
   "version": "3.9.21"
  }
 },
 "nbformat": 4,
 "nbformat_minor": 5
}
