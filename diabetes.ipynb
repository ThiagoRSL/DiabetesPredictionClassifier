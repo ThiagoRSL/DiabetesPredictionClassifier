{
 "cells": [
  {
   "cell_type": "markdown",
   "id": "6175060f-397f-49a9-9024-935956fc0a6c",
   "metadata": {},
   "source": [
    "## Setting up to Work"
   ]
  },
  {
   "cell_type": "markdown",
   "id": "d0cc20c5-73de-4fd1-a0c3-e8dcf96597af",
   "metadata": {},
   "source": [
    "The first part of the process, importing the libraries and depend"
   ]
  },
  {
   "cell_type": "code",
   "execution_count": 1,
   "id": "538b360e-c563-4015-9098-e0bc317112cf",
   "metadata": {},
   "outputs": [],
   "source": [
    "import numpy as np\n",
    "import pandas as pd\n",
    "import matplotlib.pyplot as plt\n",
    "from xgboost import XGBClassifier\n",
    "\n",
    "from sklearn.model_selection import train_test_split\n",
    "from sklearn.feature_selection import mutual_info_classif\n",
    "from sklearn.preprocessing import OneHotEncoder, OrdinalEncoder\n",
    "from sklearn.compose import ColumnTransformer\n",
    "from sklearn.decomposition import PCA\n",
    "from sklearn.ensemble import GradientBoostingClassifier, RandomForestClassifier\n",
    "from sklearn.metrics import classification_report, confusion_matrix, roc_curve, auc"
   ]
  },
  {
   "cell_type": "markdown",
   "id": "a8f3b688-a325-475d-b92c-b1c3b199edab",
   "metadata": {},
   "source": [
    "Loading dataset, after downloading it from kaggle: https://www.kaggle.com/datasets/iammustafatz/diabetes-prediction-dataset."
   ]
  },
  {
   "cell_type": "code",
   "execution_count": 2,
   "id": "8b9b17e0-25b2-4cda-b3f2-4d431c909962",
   "metadata": {},
   "outputs": [],
   "source": [
    "df = pd.read_csv(\"diabetes_prediction_dataset.csv\")"
   ]
  },
  {
   "cell_type": "markdown",
   "id": "2af6746e-eb6f-4067-90b9-db8d7b9cc397",
   "metadata": {},
   "source": [
    "## Exploratory Data Analysis"
   ]
  },
  {
   "cell_type": "markdown",
   "id": "9c868351-8a3d-4d36-8540-6f0db7fac962",
   "metadata": {},
   "source": [
    "The first steps are to understand the data, in order to do so, first we may get some general information about the dataset through the `head()`, `info()` and `describe()`."
   ]
  },
  {
   "cell_type": "code",
   "execution_count": 3,
   "id": "38abd20b-56ba-48c2-90ab-3274ef629a78",
   "metadata": {},
   "outputs": [
    {
     "data": {
      "text/html": [
       "<div>\n",
       "<style scoped>\n",
       "    .dataframe tbody tr th:only-of-type {\n",
       "        vertical-align: middle;\n",
       "    }\n",
       "\n",
       "    .dataframe tbody tr th {\n",
       "        vertical-align: top;\n",
       "    }\n",
       "\n",
       "    .dataframe thead th {\n",
       "        text-align: right;\n",
       "    }\n",
       "</style>\n",
       "<table border=\"1\" class=\"dataframe\">\n",
       "  <thead>\n",
       "    <tr style=\"text-align: right;\">\n",
       "      <th></th>\n",
       "      <th>gender</th>\n",
       "      <th>age</th>\n",
       "      <th>hypertension</th>\n",
       "      <th>heart_disease</th>\n",
       "      <th>smoking_history</th>\n",
       "      <th>bmi</th>\n",
       "      <th>HbA1c_level</th>\n",
       "      <th>blood_glucose_level</th>\n",
       "      <th>diabetes</th>\n",
       "    </tr>\n",
       "  </thead>\n",
       "  <tbody>\n",
       "    <tr>\n",
       "      <th>42197</th>\n",
       "      <td>Male</td>\n",
       "      <td>23.0</td>\n",
       "      <td>0</td>\n",
       "      <td>0</td>\n",
       "      <td>No Info</td>\n",
       "      <td>27.32</td>\n",
       "      <td>5.7</td>\n",
       "      <td>145</td>\n",
       "      <td>1</td>\n",
       "    </tr>\n",
       "    <tr>\n",
       "      <th>57911</th>\n",
       "      <td>Male</td>\n",
       "      <td>23.0</td>\n",
       "      <td>0</td>\n",
       "      <td>0</td>\n",
       "      <td>No Info</td>\n",
       "      <td>27.59</td>\n",
       "      <td>7.0</td>\n",
       "      <td>159</td>\n",
       "      <td>1</td>\n",
       "    </tr>\n",
       "    <tr>\n",
       "      <th>76268</th>\n",
       "      <td>Male</td>\n",
       "      <td>23.0</td>\n",
       "      <td>0</td>\n",
       "      <td>0</td>\n",
       "      <td>never</td>\n",
       "      <td>22.46</td>\n",
       "      <td>6.5</td>\n",
       "      <td>140</td>\n",
       "      <td>1</td>\n",
       "    </tr>\n",
       "    <tr>\n",
       "      <th>79982</th>\n",
       "      <td>Male</td>\n",
       "      <td>23.0</td>\n",
       "      <td>0</td>\n",
       "      <td>0</td>\n",
       "      <td>No Info</td>\n",
       "      <td>40.33</td>\n",
       "      <td>8.2</td>\n",
       "      <td>220</td>\n",
       "      <td>1</td>\n",
       "    </tr>\n",
       "    <tr>\n",
       "      <th>82655</th>\n",
       "      <td>Male</td>\n",
       "      <td>23.0</td>\n",
       "      <td>0</td>\n",
       "      <td>0</td>\n",
       "      <td>never</td>\n",
       "      <td>31.41</td>\n",
       "      <td>6.2</td>\n",
       "      <td>140</td>\n",
       "      <td>1</td>\n",
       "    </tr>\n",
       "  </tbody>\n",
       "</table>\n",
       "</div>"
      ],
      "text/plain": [
       "      gender   age  hypertension  heart_disease smoking_history    bmi  \\\n",
       "42197   Male  23.0             0              0         No Info  27.32   \n",
       "57911   Male  23.0             0              0         No Info  27.59   \n",
       "76268   Male  23.0             0              0           never  22.46   \n",
       "79982   Male  23.0             0              0         No Info  40.33   \n",
       "82655   Male  23.0             0              0           never  31.41   \n",
       "\n",
       "       HbA1c_level  blood_glucose_level  diabetes  \n",
       "42197          5.7                  145         1  \n",
       "57911          7.0                  159         1  \n",
       "76268          6.5                  140         1  \n",
       "79982          8.2                  220         1  \n",
       "82655          6.2                  140         1  "
      ]
     },
     "execution_count": 3,
     "metadata": {},
     "output_type": "execute_result"
    }
   ],
   "source": [
    "df[(df['gender'] == 'Male') & (df['age'] == 23.0) & (df['diabetes'] == 1)]"
   ]
  },
  {
   "cell_type": "code",
   "execution_count": 4,
   "id": "d13223a1-8174-4d70-957f-42db0229d841",
   "metadata": {},
   "outputs": [
    {
     "data": {
      "text/html": [
       "<div>\n",
       "<style scoped>\n",
       "    .dataframe tbody tr th:only-of-type {\n",
       "        vertical-align: middle;\n",
       "    }\n",
       "\n",
       "    .dataframe tbody tr th {\n",
       "        vertical-align: top;\n",
       "    }\n",
       "\n",
       "    .dataframe thead th {\n",
       "        text-align: right;\n",
       "    }\n",
       "</style>\n",
       "<table border=\"1\" class=\"dataframe\">\n",
       "  <thead>\n",
       "    <tr style=\"text-align: right;\">\n",
       "      <th></th>\n",
       "      <th>gender</th>\n",
       "      <th>age</th>\n",
       "      <th>hypertension</th>\n",
       "      <th>heart_disease</th>\n",
       "      <th>smoking_history</th>\n",
       "      <th>bmi</th>\n",
       "      <th>HbA1c_level</th>\n",
       "      <th>blood_glucose_level</th>\n",
       "      <th>diabetes</th>\n",
       "    </tr>\n",
       "  </thead>\n",
       "  <tbody>\n",
       "    <tr>\n",
       "      <th>0</th>\n",
       "      <td>Female</td>\n",
       "      <td>80.0</td>\n",
       "      <td>0</td>\n",
       "      <td>1</td>\n",
       "      <td>never</td>\n",
       "      <td>25.19</td>\n",
       "      <td>6.6</td>\n",
       "      <td>140</td>\n",
       "      <td>0</td>\n",
       "    </tr>\n",
       "    <tr>\n",
       "      <th>1</th>\n",
       "      <td>Female</td>\n",
       "      <td>54.0</td>\n",
       "      <td>0</td>\n",
       "      <td>0</td>\n",
       "      <td>No Info</td>\n",
       "      <td>27.32</td>\n",
       "      <td>6.6</td>\n",
       "      <td>80</td>\n",
       "      <td>0</td>\n",
       "    </tr>\n",
       "    <tr>\n",
       "      <th>2</th>\n",
       "      <td>Male</td>\n",
       "      <td>28.0</td>\n",
       "      <td>0</td>\n",
       "      <td>0</td>\n",
       "      <td>never</td>\n",
       "      <td>27.32</td>\n",
       "      <td>5.7</td>\n",
       "      <td>158</td>\n",
       "      <td>0</td>\n",
       "    </tr>\n",
       "    <tr>\n",
       "      <th>3</th>\n",
       "      <td>Female</td>\n",
       "      <td>36.0</td>\n",
       "      <td>0</td>\n",
       "      <td>0</td>\n",
       "      <td>current</td>\n",
       "      <td>23.45</td>\n",
       "      <td>5.0</td>\n",
       "      <td>155</td>\n",
       "      <td>0</td>\n",
       "    </tr>\n",
       "    <tr>\n",
       "      <th>4</th>\n",
       "      <td>Male</td>\n",
       "      <td>76.0</td>\n",
       "      <td>1</td>\n",
       "      <td>1</td>\n",
       "      <td>current</td>\n",
       "      <td>20.14</td>\n",
       "      <td>4.8</td>\n",
       "      <td>155</td>\n",
       "      <td>0</td>\n",
       "    </tr>\n",
       "  </tbody>\n",
       "</table>\n",
       "</div>"
      ],
      "text/plain": [
       "   gender   age  hypertension  heart_disease smoking_history    bmi  \\\n",
       "0  Female  80.0             0              1           never  25.19   \n",
       "1  Female  54.0             0              0         No Info  27.32   \n",
       "2    Male  28.0             0              0           never  27.32   \n",
       "3  Female  36.0             0              0         current  23.45   \n",
       "4    Male  76.0             1              1         current  20.14   \n",
       "\n",
       "   HbA1c_level  blood_glucose_level  diabetes  \n",
       "0          6.6                  140         0  \n",
       "1          6.6                   80         0  \n",
       "2          5.7                  158         0  \n",
       "3          5.0                  155         0  \n",
       "4          4.8                  155         0  "
      ]
     },
     "execution_count": 4,
     "metadata": {},
     "output_type": "execute_result"
    }
   ],
   "source": [
    "df.head()"
   ]
  },
  {
   "cell_type": "code",
   "execution_count": 5,
   "id": "abee033c-4469-41c0-9b9a-d904f719f3dd",
   "metadata": {},
   "outputs": [
    {
     "name": "stdout",
     "output_type": "stream",
     "text": [
      "<class 'pandas.core.frame.DataFrame'>\n",
      "RangeIndex: 100000 entries, 0 to 99999\n",
      "Data columns (total 9 columns):\n",
      " #   Column               Non-Null Count   Dtype  \n",
      "---  ------               --------------   -----  \n",
      " 0   gender               100000 non-null  object \n",
      " 1   age                  100000 non-null  float64\n",
      " 2   hypertension         100000 non-null  int64  \n",
      " 3   heart_disease        100000 non-null  int64  \n",
      " 4   smoking_history      100000 non-null  object \n",
      " 5   bmi                  100000 non-null  float64\n",
      " 6   HbA1c_level          100000 non-null  float64\n",
      " 7   blood_glucose_level  100000 non-null  int64  \n",
      " 8   diabetes             100000 non-null  int64  \n",
      "dtypes: float64(3), int64(4), object(2)\n",
      "memory usage: 6.9+ MB\n"
     ]
    }
   ],
   "source": [
    "df.info()"
   ]
  },
  {
   "cell_type": "code",
   "execution_count": 6,
   "id": "0c05d5f0-e371-4ddb-8b30-aee1bb320204",
   "metadata": {},
   "outputs": [
    {
     "data": {
      "text/html": [
       "<div>\n",
       "<style scoped>\n",
       "    .dataframe tbody tr th:only-of-type {\n",
       "        vertical-align: middle;\n",
       "    }\n",
       "\n",
       "    .dataframe tbody tr th {\n",
       "        vertical-align: top;\n",
       "    }\n",
       "\n",
       "    .dataframe thead th {\n",
       "        text-align: right;\n",
       "    }\n",
       "</style>\n",
       "<table border=\"1\" class=\"dataframe\">\n",
       "  <thead>\n",
       "    <tr style=\"text-align: right;\">\n",
       "      <th></th>\n",
       "      <th>age</th>\n",
       "      <th>hypertension</th>\n",
       "      <th>heart_disease</th>\n",
       "      <th>bmi</th>\n",
       "      <th>HbA1c_level</th>\n",
       "      <th>blood_glucose_level</th>\n",
       "      <th>diabetes</th>\n",
       "    </tr>\n",
       "  </thead>\n",
       "  <tbody>\n",
       "    <tr>\n",
       "      <th>count</th>\n",
       "      <td>100000.000000</td>\n",
       "      <td>100000.00000</td>\n",
       "      <td>100000.000000</td>\n",
       "      <td>100000.000000</td>\n",
       "      <td>100000.000000</td>\n",
       "      <td>100000.000000</td>\n",
       "      <td>100000.000000</td>\n",
       "    </tr>\n",
       "    <tr>\n",
       "      <th>mean</th>\n",
       "      <td>41.885856</td>\n",
       "      <td>0.07485</td>\n",
       "      <td>0.039420</td>\n",
       "      <td>27.320767</td>\n",
       "      <td>5.527507</td>\n",
       "      <td>138.058060</td>\n",
       "      <td>0.085000</td>\n",
       "    </tr>\n",
       "    <tr>\n",
       "      <th>std</th>\n",
       "      <td>22.516840</td>\n",
       "      <td>0.26315</td>\n",
       "      <td>0.194593</td>\n",
       "      <td>6.636783</td>\n",
       "      <td>1.070672</td>\n",
       "      <td>40.708136</td>\n",
       "      <td>0.278883</td>\n",
       "    </tr>\n",
       "    <tr>\n",
       "      <th>min</th>\n",
       "      <td>0.080000</td>\n",
       "      <td>0.00000</td>\n",
       "      <td>0.000000</td>\n",
       "      <td>10.010000</td>\n",
       "      <td>3.500000</td>\n",
       "      <td>80.000000</td>\n",
       "      <td>0.000000</td>\n",
       "    </tr>\n",
       "    <tr>\n",
       "      <th>25%</th>\n",
       "      <td>24.000000</td>\n",
       "      <td>0.00000</td>\n",
       "      <td>0.000000</td>\n",
       "      <td>23.630000</td>\n",
       "      <td>4.800000</td>\n",
       "      <td>100.000000</td>\n",
       "      <td>0.000000</td>\n",
       "    </tr>\n",
       "    <tr>\n",
       "      <th>50%</th>\n",
       "      <td>43.000000</td>\n",
       "      <td>0.00000</td>\n",
       "      <td>0.000000</td>\n",
       "      <td>27.320000</td>\n",
       "      <td>5.800000</td>\n",
       "      <td>140.000000</td>\n",
       "      <td>0.000000</td>\n",
       "    </tr>\n",
       "    <tr>\n",
       "      <th>75%</th>\n",
       "      <td>60.000000</td>\n",
       "      <td>0.00000</td>\n",
       "      <td>0.000000</td>\n",
       "      <td>29.580000</td>\n",
       "      <td>6.200000</td>\n",
       "      <td>159.000000</td>\n",
       "      <td>0.000000</td>\n",
       "    </tr>\n",
       "    <tr>\n",
       "      <th>max</th>\n",
       "      <td>80.000000</td>\n",
       "      <td>1.00000</td>\n",
       "      <td>1.000000</td>\n",
       "      <td>95.690000</td>\n",
       "      <td>9.000000</td>\n",
       "      <td>300.000000</td>\n",
       "      <td>1.000000</td>\n",
       "    </tr>\n",
       "  </tbody>\n",
       "</table>\n",
       "</div>"
      ],
      "text/plain": [
       "                 age  hypertension  heart_disease            bmi  \\\n",
       "count  100000.000000  100000.00000  100000.000000  100000.000000   \n",
       "mean       41.885856       0.07485       0.039420      27.320767   \n",
       "std        22.516840       0.26315       0.194593       6.636783   \n",
       "min         0.080000       0.00000       0.000000      10.010000   \n",
       "25%        24.000000       0.00000       0.000000      23.630000   \n",
       "50%        43.000000       0.00000       0.000000      27.320000   \n",
       "75%        60.000000       0.00000       0.000000      29.580000   \n",
       "max        80.000000       1.00000       1.000000      95.690000   \n",
       "\n",
       "         HbA1c_level  blood_glucose_level       diabetes  \n",
       "count  100000.000000        100000.000000  100000.000000  \n",
       "mean        5.527507           138.058060       0.085000  \n",
       "std         1.070672            40.708136       0.278883  \n",
       "min         3.500000            80.000000       0.000000  \n",
       "25%         4.800000           100.000000       0.000000  \n",
       "50%         5.800000           140.000000       0.000000  \n",
       "75%         6.200000           159.000000       0.000000  \n",
       "max         9.000000           300.000000       1.000000  "
      ]
     },
     "execution_count": 6,
     "metadata": {},
     "output_type": "execute_result"
    }
   ],
   "source": [
    "df.describe()"
   ]
  },
  {
   "cell_type": "markdown",
   "id": "5c06bb65-5129-4e80-8939-97b875983abd",
   "metadata": {},
   "source": [
    "So, after a brief analysis we may conclude:\n",
    "- There are a plentiful number of data available, 100.000 cases.\n",
    "- The data doesn't contain any explicit error-leading missing values such as NAs, but it has the `No info` class of `smoking_history`.\n",
    "- There are two categorical variables, `gender` and `smoking_history`, both will have to be transformed to a numerical value.\n",
    "- `diabetes`, the target, is a boolean value and have a mean of 0.085. Meaning that only 8.5% of the cases in fact have diabetes implying on a imbalanced dataset."
   ]
  },
  {
   "cell_type": "markdown",
   "id": "b1582abb-8484-48a9-b304-63a1644bf571",
   "metadata": {},
   "source": [
    "Next, we going to analyse the `smoking_history` feature as it appears to be problematic for being a categorical feature with missing values. \n",
    "\n",
    "The first step is to check the possible values this feature can take and their respective frequencies. As shown in the next cell, this feature has a couple of issues:\n",
    "- `No Info` appears in 35916 cases, meaning that more than one-third of the cases has a unespecified value on this feature (missing data).\n",
    "- There are ambiguous and overlapping categories. For example, `not current` could mean the same as `former` or `never`, and the criteria that distinguise `ever` from `current` is poorly defined.\n",
    "\n",
    "Considering the high number of unkown values and the ambiguity in class definition, a further evaluations is needed to assess this feature impact on the target prediction. This will help justify the efford of keeping this feature, or determine if it should be discarded."
   ]
  },
  {
   "cell_type": "code",
   "execution_count": 7,
   "id": "db9d3902-750c-45df-9779-876ad189901b",
   "metadata": {},
   "outputs": [
    {
     "data": {
      "text/plain": [
       "smoking_history\n",
       "No Info        35816\n",
       "never          35095\n",
       "former          9352\n",
       "current         9286\n",
       "not current     6447\n",
       "ever            4004\n",
       "Name: count, dtype: int64"
      ]
     },
     "execution_count": 7,
     "metadata": {},
     "output_type": "execute_result"
    }
   ],
   "source": [
    "df['smoking_history'].value_counts()"
   ]
  },
  {
   "cell_type": "markdown",
   "id": "93ac6d59-a7bb-41e2-896e-8e5cd6df8018",
   "metadata": {},
   "source": [
    "In order to further evaluate, we'll define a `ColumnTransformer` and transform the categorical values through the One-Hot Encoding. With the categorical data transformed, we can then use some feature metrics, such as Mutual Information score and correlation, to understand the features relevance to the target."
   ]
  },
  {
   "cell_type": "code",
   "execution_count": 8,
   "id": "5a609ce8-983e-4a87-91da-ca21434e06de",
   "metadata": {},
   "outputs": [],
   "source": [
    "# Separetes the Features from the Target.\n",
    "X = df.drop(['diabetes'], axis=1)\n",
    "y = df['diabetes']\n",
    "\n",
    "CT = ColumnTransformer(\n",
    "    transformers = [ \n",
    "        ('onehot', OneHotEncoder(sparse_output=False, categories='auto'), ['gender', 'smoking_history']), #sparse_output=False\n",
    "        #('ordinal', OrdinalEncoder(categories=[['never','No Info', 'not current', 'former', 'current', 'ever']]), ['smoking_history']) #sparse_output=False\n",
    "    ],\t\n",
    "    remainder='passthrough'\n",
    ")"
   ]
  },
  {
   "cell_type": "code",
   "execution_count": 9,
   "id": "8805fe42-bb18-48ef-aa12-ae9b6bf8cbe7",
   "metadata": {},
   "outputs": [],
   "source": [
    "# Applies the OneHot onto categorical features.\n",
    "X_encoded = CT.fit_transform(X[['gender', 'smoking_history']])\n",
    "encoded_cols = CT.get_feature_names_out(['gender', 'smoking_history'])\n",
    "\n",
    "X_encoded_df = pd.DataFrame(X_encoded, columns=encoded_cols, index=X.index)\n",
    "X_features = pd.concat([X.drop(['gender', 'smoking_history'], axis=1), X_encoded_df], axis=1)"
   ]
  },
  {
   "cell_type": "markdown",
   "id": "4ee96c9e-c566-4389-ab75-f04abad7d540",
   "metadata": {},
   "source": [
    "### Correlation\n",
    "Analyzing the correlation between the features and the target variable, allows us to see which of the features are most strong linear related to the target."
   ]
  },
  {
   "cell_type": "code",
   "execution_count": 10,
   "id": "605874fa-716a-4796-961e-6e79eeed724b",
   "metadata": {},
   "outputs": [
    {
     "data": {
      "text/plain": [
       "diabetes                               1.000000\n",
       "blood_glucose_level                    0.419558\n",
       "HbA1c_level                            0.400660\n",
       "age                                    0.258008\n",
       "bmi                                    0.214357\n",
       "hypertension                           0.197823\n",
       "heart_disease                          0.171727\n",
       "onehot__smoking_history_former         0.097917\n",
       "onehot__gender_Male                    0.037666\n",
       "onehot__smoking_history_never          0.027267\n",
       "onehot__smoking_history_ever           0.024080\n",
       "onehot__smoking_history_not current    0.020734\n",
       "onehot__smoking_history_current        0.019606\n",
       "onehot__gender_Other                  -0.004090\n",
       "onehot__gender_Female                 -0.037553\n",
       "onehot__smoking_history_No Info       -0.118939\n",
       "Name: diabetes, dtype: float64"
      ]
     },
     "execution_count": 10,
     "metadata": {},
     "output_type": "execute_result"
    }
   ],
   "source": [
    "df_trans = pd.concat([X_features, y], axis=1)\n",
    "df_trans.corr()['diabetes'].sort_values(ascending=False)\n"
   ]
  },
  {
   "cell_type": "markdown",
   "id": "49c649e1-3c5d-4d5e-9976-3ee051b54584",
   "metadata": {},
   "source": [
    "### Mutual Information\n",
    "Mutual Information can capture many types of relationships that each variable may have with the target, not being limited by linear associations only."
   ]
  },
  {
   "cell_type": "code",
   "execution_count": 11,
   "id": "34f5c4fa-6374-4697-a547-16abc5d127b1",
   "metadata": {},
   "outputs": [
    {
     "name": "stdout",
     "output_type": "stream",
     "text": [
      "                                Feature  MI Score\n",
      "4                           HbA1c_level  0.131482\n",
      "5                   blood_glucose_level  0.114435\n",
      "0                                   age  0.041122\n",
      "3                                   bmi  0.026334\n",
      "6                 onehot__gender_Female  0.017430\n",
      "9       onehot__smoking_history_No Info  0.015753\n",
      "1                          hypertension  0.013880\n",
      "7                   onehot__gender_Male  0.009594\n",
      "2                         heart_disease  0.009272\n",
      "13        onehot__smoking_history_never  0.006622\n",
      "12       onehot__smoking_history_former  0.005479\n",
      "14  onehot__smoking_history_not current  0.001681\n",
      "8                  onehot__gender_Other  0.000579\n",
      "10      onehot__smoking_history_current  0.000000\n",
      "11         onehot__smoking_history_ever  0.000000\n"
     ]
    }
   ],
   "source": [
    "# Calcula a MI\n",
    "mi_scores = mutual_info_classif(X_features, y)\n",
    "\n",
    "# Exibe os resultados\n",
    "mi_df = pd.DataFrame({'Feature': X_features.columns, 'MI Score': mi_scores})\n",
    "print(mi_df.sort_values(by='MI Score', ascending=False))\n"
   ]
  },
  {
   "cell_type": "markdown",
   "id": "23902358-acad-4d6a-8c50-8ab99f582478",
   "metadata": {},
   "source": [
    "### PCA\n",
    "Using PCA we may obtain valueble information about components made using the linear combination of the available data."
   ]
  },
  {
   "cell_type": "code",
   "execution_count": 12,
   "id": "9d483e3b-6bed-49d6-b650-d731bb891e78",
   "metadata": {},
   "outputs": [
    {
     "name": "stdout",
     "output_type": "stream",
     "text": [
      "                          PC1       PC2       PC3       PC4       PC5\n",
      "age                  0.566264 -0.265468 -0.057950 -0.156845 -0.023003\n",
      "hypertension         0.421370 -0.175895  0.029841  0.864849  0.076444\n",
      "heart_disease        0.352297 -0.143349  0.818735 -0.296400 -0.018912\n",
      "bmi                  0.456550 -0.218234 -0.569784 -0.360819 -0.056236\n",
      "HbA1c_level          0.284349  0.656053  0.000659  0.058274 -0.696617\n",
      "blood_glucose_level  0.297298  0.632461 -0.027746 -0.077440  0.710515\n"
     ]
    }
   ],
   "source": [
    "X_filtered = X_features[[\"age\", \"hypertension\", \"heart_disease\", \"bmi\", \"HbA1c_level\", \"blood_glucose_level\"]]\n",
    "X_scaled = (X_filtered - X_filtered.mean(axis=0)) / X_filtered.std(axis=0)\n",
    "\n",
    "pca = PCA(n_components=5)\n",
    "X_pca = pca.fit_transform(X_scaled)\n",
    "\n",
    "comp_names = [f\"PC{i+1}\" for i in range(X_pca.shape[1])]\n",
    "X_pca = pd.DataFrame(X_pca, columns=comp_names)\n",
    "\n",
    "loadings = pd.DataFrame(\n",
    "    pca.components_.T,\n",
    "    columns=comp_names,\n",
    "    index=X_filtered.columns,  \n",
    ")\n",
    "print(loadings)"
   ]
  },
  {
   "cell_type": "code",
   "execution_count": 13,
   "id": "ed029b30-ec2f-414c-9601-d57e8d67bb1e",
   "metadata": {},
   "outputs": [
    {
     "name": "stdout",
     "output_type": "stream",
     "text": [
      "  Feature  MI Score\n",
      "0     PC1  0.111965\n",
      "1     PC2  0.073281\n",
      "2     PC3  0.043465\n",
      "3     PC4  0.052796\n",
      "4     PC5  0.037731\n"
     ]
    }
   ],
   "source": [
    "mi_scores = mutual_info_classif(X_pca, y)\n",
    "mi_df = pd.DataFrame({'Feature': X_pca.columns, 'MI Score': mi_scores})\n",
    "print(mi_df)"
   ]
  },
  {
   "cell_type": "markdown",
   "id": "d3e196a7-8423-421a-9b95-b40a0aaa5bbc",
   "metadata": {},
   "source": [
    "## Feature Selection and Preprocessing\n",
    "Now, it's time to select the features that we'll use on our prediction. As we saw that the smoking history isn't a particularly good feature to invest in this case, we'll exclude it from the selected features. After that, we'll split our dataset to use 75% of it to training and the other 25% to test our prediction model."
   ]
  },
  {
   "cell_type": "code",
   "execution_count": 14,
   "id": "6d47e155-5365-4003-876a-b52ebfe8bfde",
   "metadata": {},
   "outputs": [],
   "source": [
    "# Separetes the Features from the Target.\n",
    "X = df.drop(['diabetes', 'smoking_history'], axis=1)\n",
    "y = df['diabetes']\n",
    "\n",
    "CT = ColumnTransformer(\n",
    "    transformers = [ \n",
    "        ('onehot', OneHotEncoder(sparse_output=False, categories='auto'), ['gender']), #sparse_output=False\n",
    "    ],\t\n",
    "    remainder='passthrough'\n",
    ")\n",
    "\n",
    "# Applies the OneHot onto categorical features.\n",
    "X_encoded = CT.fit_transform(X[['gender']])\n",
    "encoded_cols = CT.get_feature_names_out(['gender'])\n",
    "\n",
    "X_encoded_df = pd.DataFrame(X_encoded, columns=encoded_cols, index=X.index)\n",
    "X_features = pd.concat([X.drop(['gender'], axis=1), X_encoded_df], axis=1)\n"
   ]
  },
  {
   "cell_type": "markdown",
   "id": "e3f9b166-3d5e-45cd-ad02-434a42a879d9",
   "metadata": {},
   "source": [
    "As we saw earlier on the EDA, the dataset we're using is imbalanced. The target `diabetes` has the value of 0 much more frequently than 1, with 91.5% of the cases being 0 and 8.5% being 1. In order to ensure that the data will be splitted in a way that keeps the original distribution, we will set it to stratify the split based on the target values."
   ]
  },
  {
   "cell_type": "code",
   "execution_count": 37,
   "id": "52b52817-612f-41bb-a2b8-b698401baadf",
   "metadata": {},
   "outputs": [],
   "source": [
    "# Splits 75 for training and 25 for test\n",
    "X_train, X_test, y_train, y_test = train_test_split(X_features, y, stratify=y, test_size=0.30)"
   ]
  },
  {
   "cell_type": "markdown",
   "id": "f64e0276-d847-4c18-b9b8-b74dc5a6ae5b",
   "metadata": {},
   "source": [
    "## Modeling\n",
    "Here we're going to train a Gradient Boosting with 400 decision trees, fitting it to the train data."
   ]
  },
  {
   "cell_type": "code",
   "execution_count": 38,
   "id": "51c25082-262b-4566-a397-5d983d273ca4",
   "metadata": {},
   "outputs": [],
   "source": [
    "model_gboost_baseline = GradientBoostingClassifier(n_estimators = 400, random_state=0).fit(X_train, y_train)"
   ]
  },
  {
   "cell_type": "markdown",
   "id": "ffae90d8-7edd-4ff4-b8fe-823be7b32e45",
   "metadata": {},
   "source": [
    "It is very important to evaluate the classification report wisely. Precision isn't the only thing that cares, even more on this case as we've got a imbalanced dataset. So the recall and f1-score tells us that the model may be predicting a higher number of false negatives than it appears by only looking to the precision score."
   ]
  },
  {
   "cell_type": "code",
   "execution_count": 39,
   "id": "8d128abe-132b-4dfb-9d5c-64263031e129",
   "metadata": {},
   "outputs": [
    {
     "name": "stdout",
     "output_type": "stream",
     "text": [
      "              precision    recall  f1-score   support\n",
      "\n",
      "           0       0.97      1.00      0.98     27450\n",
      "           1       0.97      0.68      0.80      2550\n",
      "\n",
      "    accuracy                           0.97     30000\n",
      "   macro avg       0.97      0.84      0.89     30000\n",
      "weighted avg       0.97      0.97      0.97     30000\n",
      "\n",
      "[[27395    55]\n",
      " [  812  1738]]\n"
     ]
    }
   ],
   "source": [
    "y_pred = model_gboost_baseline.predict(X_test)\n",
    "print(classification_report(y_test, y_pred))\n",
    "print(confusion_matrix(y_test, y_pred))"
   ]
  },
  {
   "cell_type": "markdown",
   "id": "2fc62d9d-b5bb-40e1-a891-74ee345bf110",
   "metadata": {},
   "source": [
    "In fact, our model gets right 68% of the diabetics people diagnosed. We may trade a bit of false negatives with false positives by changing the confidence that our model has to have to consider a prediction of diabetes as true, using 0.3 of probability as a threshold to predict `True` instead of 0.5."
   ]
  },
  {
   "cell_type": "markdown",
   "id": "e1c1db14-70b6-41f5-879b-4e74a7dce405",
   "metadata": {},
   "source": [
    "#### Adjusting Confidence Threshold\n"
   ]
  },
  {
   "cell_type": "markdown",
   "id": "f890f2c2-df89-43fb-8136-25dfd6b92b67",
   "metadata": {},
   "source": [
    "Binary classification is based upon probability. Basically, the model's output represents its confidence that the input belongs to the positive class, in other words, the output is the probability that the model \"believes\" the patient is diabetic. By default, if the model's output exceeds 0.5, the input is labeled as class 1, if the value is lower than 0.5, then the input is classified as class 0. Meaning that, by default, the confidence threshold is 0.5.\n",
    "\n",
    "However, the threshold can be adjusted, leading the model to be more or less likely to label an input as belonging towards a class or another. This can be particularly useful in cases such as this one, where we do have an imbalanced dataset that causes our model to have a higher confidence on predicting the negative classe than the positive, as it got way more 0 class examples during its training. \n",
    "\n",
    "Since we know now that, in this case, the threshold should be lower than 0.5, we still have an infinite number of values to choose between 0 and 0.5. So, to help sorting out which numbers could be good candidates, we will plot the ROC-AUC curve, which shows the relationship beetween the threshold values to `True Positive Rate` and `False Positive Rate`. \n"
   ]
  },
  {
   "cell_type": "markdown",
   "id": "4cae4427-8731-46e2-8436-13e34aa5c57a",
   "metadata": {},
   "source": [
    "First, we get the probabilities from the model and use the metric `roc_curve` from scikit-learn to compute the true and false positives rates (also the thresholds samples). The we plot those values."
   ]
  },
  {
   "cell_type": "code",
   "execution_count": 40,
   "id": "7c502628-255f-4892-bf49-c585172f6345",
   "metadata": {},
   "outputs": [],
   "source": [
    "y_prob = model_gboost_baseline.predict_proba(X_test)[:, 1]  # Probabilidade da classe 1 (diabéticos)\n",
    "\n",
    "fpr, tpr, thresholds = roc_curve(y_test, y_prob)\n",
    "roc_auc = auc(fpr, tpr)"
   ]
  },
  {
   "cell_type": "code",
   "execution_count": 41,
   "id": "4be86a2b-aa59-4295-afdc-3379169a827f",
   "metadata": {},
   "outputs": [
    {
     "data": {
      "image/png": "[encoded data removed]",
      "text/plain": [
       "<Figure size 600x400 with 1 Axes>"
      ]
     },
     "metadata": {},
     "output_type": "display_data"
    }
   ],
   "source": [
    "plt.figure(figsize=(6, 4))\n",
    "plt.title('ROC curve - Baseline GBoost Model')\n",
    "plt.xlabel('FP Rate')\n",
    "plt.ylabel('TP Rate')\n",
    "plt.plot(fpr, tpr, color='green', lw=2, label='ROC curve (AUC = %0.2f)' % roc_auc)\n",
    "plt.plot([0, 1], [0, 1], color='lightgray')\n",
    "plt.axis([0.0, 1.0, 0.0, 1.1])\n",
    "plt.legend(loc='lower right')\n",
    "plt.show()"
   ]
  },
  {
   "cell_type": "markdown",
   "id": "8cc04f89-94e0-41a1-a8d8-61be8f115461",
   "metadata": {},
   "source": [
    "The ROC curve shows that a good value would be around 0.3, so we may test some options as: `0.3`, `0.25` and `0.2`."
   ]
  },
  {
   "cell_type": "code",
   "execution_count": 42,
   "id": "9917fb30-b8a1-4205-b076-44963279b7c4",
   "metadata": {},
   "outputs": [
    {
     "name": "stdout",
     "output_type": "stream",
     "text": [
      "              precision    recall  f1-score   support\n",
      "\n",
      "           0       0.98      0.99      0.98     27450\n",
      "           1       0.85      0.73      0.79      2550\n",
      "\n",
      "    accuracy                           0.97     30000\n",
      "   macro avg       0.91      0.86      0.88     30000\n",
      "weighted avg       0.96      0.97      0.97     30000\n",
      "\n",
      "[[27132   318]\n",
      " [  694  1856]]\n"
     ]
    }
   ],
   "source": [
    "y_proba = model_gboost_baseline.predict_proba(X_test)[:, 1]\n",
    "y_pred = (y_proba >= 0.3).astype(int)\n",
    "\n",
    "print(classification_report(y_test, y_pred))\n",
    "cm = confusion_matrix(y_test, y_pred)\n",
    "print(cm)"
   ]
  },
  {
   "cell_type": "code",
   "execution_count": 43,
   "id": "fed5a3e8-bacb-4223-876c-bbe566ea0289",
   "metadata": {},
   "outputs": [
    {
     "name": "stdout",
     "output_type": "stream",
     "text": [
      "              precision    recall  f1-score   support\n",
      "\n",
      "           0       0.98      0.98      0.98     27450\n",
      "           1       0.79      0.75      0.77      2550\n",
      "\n",
      "    accuracy                           0.96     30000\n",
      "   macro avg       0.88      0.87      0.87     30000\n",
      "weighted avg       0.96      0.96      0.96     30000\n",
      "\n",
      "[[26934   516]\n",
      " [  630  1920]]\n"
     ]
    }
   ],
   "source": [
    "y_proba = model_gboost_baseline.predict_proba(X_test)[:, 1]\n",
    "y_pred = (y_proba >= 0.25).astype(int)\n",
    "\n",
    "print(classification_report(y_test, y_pred))\n",
    "cm = confusion_matrix(y_test, y_pred)\n",
    "print(cm)"
   ]
  },
  {
   "cell_type": "code",
   "execution_count": 44,
   "id": "f8aa6079-bf20-49eb-a824-87ee35b9b113",
   "metadata": {},
   "outputs": [
    {
     "name": "stdout",
     "output_type": "stream",
     "text": [
      "              precision    recall  f1-score   support\n",
      "\n",
      "           0       0.98      0.97      0.98     27450\n",
      "           1       0.71      0.79      0.75      2550\n",
      "\n",
      "    accuracy                           0.95     30000\n",
      "   macro avg       0.85      0.88      0.86     30000\n",
      "weighted avg       0.96      0.95      0.96     30000\n",
      "\n",
      "[[26633   817]\n",
      " [  537  2013]]\n"
     ]
    }
   ],
   "source": [
    "y_proba = model_gboost_baseline.predict_proba(X_test)[:, 1]\n",
    "y_pred = (y_proba >= 0.2).astype(int)\n",
    "\n",
    "print(classification_report(y_test, y_pred))\n",
    "cm = confusion_matrix(y_test, y_pred)\n",
    "print(cm)"
   ]
  },
  {
   "cell_type": "markdown",
   "id": "de88bb92-bcc6-41b3-af11-9e5fd135a551",
   "metadata": {},
   "source": [
    "In this context, the trade-off is justified because false negatives in medical diagnoses usually tend to represent a bigger problem than false positives. Another alternative is to set weights to each case, aplying lesser values to cases of the class that occurs more often."
   ]
  },
  {
   "cell_type": "markdown",
   "id": "06106a6b-5ace-4690-b1fa-aa40138c69a3",
   "metadata": {},
   "source": [
    "#### Assign Weights\n",
    "After assign weights to each classe, being the weight for class 1 cases five times higher than the weights of cases of class 0, we got even less false positives, almost half of the original amount, in exchange of having near 30 times the amout of false negatives. \n"
   ]
  },
  {
   "cell_type": "code",
   "execution_count": 45,
   "id": "82b41299-84c7-49b7-93b4-be423d43c394",
   "metadata": {},
   "outputs": [],
   "source": [
    "sample_weights = np.where(y_train == 1, 5, 1)\n",
    "model_gboost_weighted = GradientBoostingClassifier(n_estimators = 400, random_state=0, n_iter_no_change=10, tol=1e-4).fit(X_train, y_train, sample_weight=sample_weights)"
   ]
  },
  {
   "cell_type": "code",
   "execution_count": 46,
   "id": "fbf278d9-51be-49bd-b88a-dc903c303691",
   "metadata": {},
   "outputs": [
    {
     "name": "stdout",
     "output_type": "stream",
     "text": [
      "              precision    recall  f1-score   support\n",
      "\n",
      "           0       0.98      0.96      0.97     27450\n",
      "           1       0.66      0.82      0.73      2550\n",
      "\n",
      "    accuracy                           0.95     30000\n",
      "   macro avg       0.82      0.89      0.85     30000\n",
      "weighted avg       0.95      0.95      0.95     30000\n",
      "\n",
      "[[26353  1097]\n",
      " [  464  2086]]\n"
     ]
    }
   ],
   "source": [
    "y_pred = model_gboost_weighted.predict(X_test)\n",
    "print(classification_report(y_test, y_pred))\n",
    "print(confusion_matrix(y_test, y_pred))"
   ]
  },
  {
   "cell_type": "markdown",
   "id": "21ee6c27-b2d3-4602-af2b-a85f195c26d8",
   "metadata": {},
   "source": [
    "#### Undersampling\n",
    "We may employ the undersampling technique to reduce the bias of the model towards predicting the cases as non-diabetic (`False`). \n",
    "In other words, by reducing how many false non-diabetic samples the model sees during its training, we decrease the model tendency to predict values near 0."
   ]
  },
  {
   "cell_type": "markdown",
   "id": "57d50f73-3839-429d-8954-b95fb4845e83",
   "metadata": {},
   "source": [
    "First we may repeat the process of splitting the dataset and aplying our column transformer."
   ]
  },
  {
   "cell_type": "code",
   "execution_count": 47,
   "id": "cf22a9eb-891c-4b06-89e8-92dd29105928",
   "metadata": {},
   "outputs": [],
   "source": [
    "# Separetes the Features from the Target.\n",
    "df_with_diabetes = df[df['diabetes'] == 1]\n",
    "df_without_diabetes = df[~(df['diabetes'] == 1)]\n",
    "drop_sample_indexes = df_without_diabetes.sample(frac=1/2, random_state=42).index\n",
    "df_u = pd.concat([df_with_diabetes, df_without_diabetes.drop(drop_sample_indexes)], axis=0)\n",
    "\n",
    "X_u = df_u.drop(['diabetes', 'smoking_history'], axis=1)\n",
    "y_u = df_u['diabetes']\n",
    "\n",
    "# Applies the OneHot onto categorical features.\n",
    "X_encoded_u = CT.fit_transform(X_u[['gender']])\n",
    "X_encoded_df_u = pd.DataFrame(X_encoded_u, columns=encoded_cols, index=X_u.index)\n",
    "X_features_u = pd.concat([X_u.drop(['gender'], axis=1), X_encoded_df_u], axis=1)"
   ]
  },
  {
   "cell_type": "code",
   "execution_count": 48,
   "id": "55433602-3461-4f57-b61f-141a4f3c30fd",
   "metadata": {},
   "outputs": [],
   "source": [
    "Xu_train, Xu_test, yu_train, yu_test = train_test_split(X_features_u, y_u, stratify=y_u)"
   ]
  },
  {
   "cell_type": "markdown",
   "id": "d11af4fe-2790-4913-9acb-583f0bcfe7d6",
   "metadata": {},
   "source": [
    "Thus, we train our model again. This time, our non-diabetic samples were reduced by half."
   ]
  },
  {
   "cell_type": "code",
   "execution_count": 49,
   "id": "88fb88ab-975e-45dc-be91-9e6f090138ee",
   "metadata": {},
   "outputs": [],
   "source": [
    "model_gboost_undersampling = GradientBoostingClassifier(n_estimators = 400, random_state=0).fit(Xu_train, yu_train)"
   ]
  },
  {
   "cell_type": "code",
   "execution_count": 50,
   "id": "d1ba3de8-f6f5-4bca-88c8-02bd6460a86a",
   "metadata": {},
   "outputs": [
    {
     "name": "stdout",
     "output_type": "stream",
     "text": [
      "              precision    recall  f1-score   support\n",
      "\n",
      "           0       0.95      0.99      0.97     11438\n",
      "           1       0.93      0.71      0.81      2125\n",
      "\n",
      "    accuracy                           0.95     13563\n",
      "   macro avg       0.94      0.85      0.89     13563\n",
      "weighted avg       0.95      0.95      0.94     13563\n",
      "\n",
      "[[11327   111]\n",
      " [  611  1514]]\n"
     ]
    }
   ],
   "source": [
    "yu_pred = model_gboost_undersampling.predict(Xu_test)\n",
    "print(classification_report(yu_test, yu_pred))\n",
    "print(confusion_matrix(yu_test, yu_pred))"
   ]
  },
  {
   "cell_type": "code",
   "execution_count": 51,
   "id": "9b25f6b3-8969-4bcc-b306-cb9594c28ce7",
   "metadata": {},
   "outputs": [
    {
     "name": "stdout",
     "output_type": "stream",
     "text": [
      "              precision    recall  f1-score   support\n",
      "\n",
      "           0       0.96      0.97      0.96     11438\n",
      "           1       0.81      0.81      0.81      2125\n",
      "\n",
      "    accuracy                           0.94     13563\n",
      "   macro avg       0.89      0.89      0.89     13563\n",
      "weighted avg       0.94      0.94      0.94     13563\n",
      "\n",
      "[[11039   399]\n",
      " [  408  1717]]\n"
     ]
    }
   ],
   "source": [
    "yu_proba = model_gboost_undersampling.predict_proba(Xu_test)[:, 1]\n",
    "yu_pred = (yu_proba >= 0.3).astype(int)\n",
    "\n",
    "print(classification_report(yu_test, yu_pred))\n",
    "cm = confusion_matrix(yu_test, yu_pred)\n",
    "print(cm)"
   ]
  },
  {
   "cell_type": "markdown",
   "id": "3ea0479d-0b29-42e7-bfc9-b02cfca6faba",
   "metadata": {},
   "source": [
    "### XGBoost\n",
    "XGBoost is a lib on python that implements an enhanced version of the classical GradientBoosting algorithm, this version uses a bunch of otmimizations techniques such as regularization methods as the L1, Lasso, and L2, Ridge, regularizaton. The next cell shows that this method is a little bit better when compared to the GradientBoosting with the same parameters."
   ]
  },
  {
   "cell_type": "code",
   "execution_count": 52,
   "id": "4186a0e0-c0c8-4d51-8de0-26f4ad88c17f",
   "metadata": {},
   "outputs": [],
   "source": [
    "model_xgboost = XGBClassifier(n_estimators = 400, random_state=0).fit(X_train, y_train)"
   ]
  },
  {
   "cell_type": "code",
   "execution_count": 53,
   "id": "7b01b5a1-5e1f-4efd-a54b-647465beb5a8",
   "metadata": {},
   "outputs": [
    {
     "name": "stdout",
     "output_type": "stream",
     "text": [
      "              precision    recall  f1-score   support\n",
      "\n",
      "           0       0.97      1.00      0.98     27450\n",
      "           1       0.97      0.68      0.80      2550\n",
      "\n",
      "    accuracy                           0.97     30000\n",
      "   macro avg       0.97      0.84      0.89     30000\n",
      "weighted avg       0.97      0.97      0.97     30000\n",
      "\n",
      "[[27395    55]\n",
      " [  812  1738]]\n"
     ]
    }
   ],
   "source": [
    "y_pred = model_gboost_baseline.predict(X_test)\n",
    "print(classification_report(y_test, y_pred))\n",
    "print(confusion_matrix(y_test, y_pred))"
   ]
  },
  {
   "cell_type": "markdown",
   "id": "7b66b7ca-13ce-4bd3-9706-eb5d45099875",
   "metadata": {},
   "source": [
    "It's possible to tweak the confidence threshold on this model too."
   ]
  },
  {
   "cell_type": "code",
   "execution_count": 54,
   "id": "bc706629-a345-4678-bc16-f95bfa0683e1",
   "metadata": {},
   "outputs": [
    {
     "name": "stdout",
     "output_type": "stream",
     "text": [
      "              precision    recall  f1-score   support\n",
      "\n",
      "           0       0.98      0.99      0.98     27450\n",
      "           1       0.85      0.73      0.79      2550\n",
      "\n",
      "    accuracy                           0.97     30000\n",
      "   macro avg       0.91      0.86      0.88     30000\n",
      "weighted avg       0.96      0.97      0.97     30000\n",
      "\n",
      "[[27132   318]\n",
      " [  694  1856]]\n"
     ]
    }
   ],
   "source": [
    "y_proba = model_gboost_baseline.predict_proba(X_test)[:, 1]\n",
    "y_pred = (y_proba >= 0.3).astype(int)\n",
    "\n",
    "print(classification_report(y_test, y_pred))\n",
    "print(confusion_matrix(y_test, y_pred))"
   ]
  },
  {
   "cell_type": "markdown",
   "id": "31f93a73-fbd1-4ba1-8ace-cabe60bd87f0",
   "metadata": {},
   "source": [
    "However, XGBoost library methods provides a lot of parameters that are explored on the next cell in order to maxime our classificator. In order to select a good parameter configuration - optimizing the model - it's possible to use fine-tuning methods such as GridSearch (Next Cell)."
   ]
  },
  {
   "cell_type": "code",
   "execution_count": 55,
   "id": "f2e8161e-6fe2-4ca9-a416-fd08a59bdfae",
   "metadata": {},
   "outputs": [],
   "source": [
    "from sklearn.model_selection import GridSearchCV"
   ]
  },
  {
   "cell_type": "code",
   "execution_count": 60,
   "id": "75171436-4bef-4116-8f7c-d1eb6d6c8a56",
   "metadata": {},
   "outputs": [],
   "source": [
    "model_xgboost_tuned = XGBClassifier(random_state=0)\n",
    "param_grid = {\n",
    "    'learning_rate': [0.01, 0.1],\n",
    "    'max_depth': [6, 15],\n",
    "    'subsample': [0.8, 1.0],\n",
    "    'colsample_bytree': [0.8, 1.0],\n",
    "    'reg_alpha': [0, 0.1],\n",
    "    'reg_lambda': [1, 10],\n",
    "    'scale_pos_weight': [3, 5],\n",
    "}"
   ]
  },
  {
   "cell_type": "markdown",
   "id": "7be324a5-01f0-4cdf-b362-898b58a955e6",
   "metadata": {},
   "source": [
    "Why use the recall score? As the main goal is the diabetes classification, we kept the recall as the main score instead of using accuracy (as this dataset is imbalanced) or f1-score (which tries to find a good balance between recall and precision) because, in medical tests the false negatives are more critical than the false positives, as the latter encourage the patient to do the specific exams to confirm its condition, while the former are more likely to do the opposite, deceiving the patient to believe that there's nothing to worry about. "
   ]
  },
  {
   "cell_type": "code",
   "execution_count": 61,
   "id": "3cd143f5-0460-46fd-9410-293f1973aecc",
   "metadata": {},
   "outputs": [],
   "source": [
    "grid_search = GridSearchCV(\n",
    "    estimator=model_xgboost_tuned,\n",
    "    param_grid=param_grid,\n",
    "    scoring='recall',\n",
    "    cv=3,\n",
    "    verbose=1,\n",
    "    n_jobs=-1\n",
    ")"
   ]
  },
  {
   "cell_type": "code",
   "execution_count": 62,
   "id": "4df8f53d-e994-4e5c-93df-d6f4a29da206",
   "metadata": {},
   "outputs": [
    {
     "name": "stdout",
     "output_type": "stream",
     "text": [
      "Fitting 3 folds for each of 128 candidates, totalling 384 fits\n",
      "Best scenario | parameters: {'colsample_bytree': 0.8, 'learning_rate': 0.1, 'max_depth': 6, 'reg_alpha': 0.1, 'reg_lambda': 10, 'scale_pos_weight': 5, 'subsample': 1.0} | with best recall: 0.8366389851371062\n"
     ]
    }
   ],
   "source": [
    "grid_search.fit(\n",
    "    X_train,\n",
    "    y_train\n",
    ")\n",
    "\n",
    "print(f\"Best scenario | parameters: {grid_search.best_params_} | with best recall: {grid_search.best_score_}\")"
   ]
  },
  {
   "cell_type": "markdown",
   "id": "bcb2a174-16c1-4e68-982b-69d65167637a",
   "metadata": {},
   "source": [
    "To avoid overfitting, we can use a regularization technique: early_stopping. To apply early stopping, we first need to have a validation set that is defined on the next cell by splitting the current test set into two parts: 2/3 for the new test set and 1/3 for the validation set."
   ]
  },
  {
   "cell_type": "markdown",
   "id": "5c89ebbd-5065-4cd9-8dec-e929b490a7d4",
   "metadata": {},
   "source": [
    "Since the current test set has 30% of the original data, the new test - (X_test2, y_test2) - and validation - (X_val, y_val) - sets will represent approximately 20% and 10% of the original data, respectivelly. "
   ]
  },
  {
   "cell_type": "code",
   "execution_count": null,
   "id": "b075c8f4-9ea3-4c5f-a309-1e2f99ac21f7",
   "metadata": {},
   "outputs": [],
   "source": [
    "X_val, X_test2, y_val, y_test2 = train_test_split(X_test, y_test, stratify=y_test, test_size=2/3)"
   ]
  },
  {
   "cell_type": "markdown",
   "id": "6eb55457-f769-40f0-9f67-7747e84cb703",
   "metadata": {},
   "source": [
    "Now we can train the model again, but this time using early stopping and the parameters found by the grid_search."
   ]
  },
  {
   "cell_type": "code",
   "execution_count": 63,
   "id": "3ba31184-a0a6-422a-b284-6def78900553",
   "metadata": {},
   "outputs": [
    {
     "name": "stdout",
     "output_type": "stream",
     "text": [
      "[0]\tvalidation_0-logloss:0.41399\n",
      "[1]\tvalidation_0-logloss:0.38032\n",
      "[2]\tvalidation_0-logloss:0.35585\n",
      "[3]\tvalidation_0-logloss:0.33494\n",
      "[4]\tvalidation_0-logloss:0.31707\n",
      "[5]\tvalidation_0-logloss:0.30118\n",
      "[6]\tvalidation_0-logloss:0.28264\n",
      "[7]\tvalidation_0-logloss:0.26629\n",
      "[8]\tvalidation_0-logloss:0.25528\n",
      "[9]\tvalidation_0-logloss:0.24547\n",
      "[10]\tvalidation_0-logloss:0.23673\n",
      "[11]\tvalidation_0-logloss:0.22901\n",
      "[12]\tvalidation_0-logloss:0.21882\n",
      "[13]\tvalidation_0-logloss:0.20981\n",
      "[14]\tvalidation_0-logloss:0.20168\n",
      "[15]\tvalidation_0-logloss:0.19437\n",
      "[16]\tvalidation_0-logloss:0.18784\n",
      "[17]\tvalidation_0-logloss:0.18206\n",
      "[18]\tvalidation_0-logloss:0.17687\n",
      "[19]\tvalidation_0-logloss:0.17226\n",
      "[20]\tvalidation_0-logloss:0.16802\n",
      "[21]\tvalidation_0-logloss:0.16427\n",
      "[22]\tvalidation_0-logloss:0.16080\n",
      "[23]\tvalidation_0-logloss:0.15843\n",
      "[24]\tvalidation_0-logloss:0.15638\n",
      "[25]\tvalidation_0-logloss:0.15374\n",
      "[26]\tvalidation_0-logloss:0.15127\n",
      "[27]\tvalidation_0-logloss:0.14975\n",
      "[28]\tvalidation_0-logloss:0.14771\n",
      "[29]\tvalidation_0-logloss:0.14585\n",
      "[30]\tvalidation_0-logloss:0.14419\n",
      "[31]\tvalidation_0-logloss:0.14313\n",
      "[32]\tvalidation_0-logloss:0.14171\n",
      "[33]\tvalidation_0-logloss:0.14080\n",
      "[34]\tvalidation_0-logloss:0.13954\n",
      "[35]\tvalidation_0-logloss:0.13803\n",
      "[36]\tvalidation_0-logloss:0.13737\n",
      "[37]\tvalidation_0-logloss:0.13603\n",
      "[38]\tvalidation_0-logloss:0.13462\n",
      "[39]\tvalidation_0-logloss:0.13382\n",
      "[40]\tvalidation_0-logloss:0.13334\n",
      "[41]\tvalidation_0-logloss:0.13245\n",
      "[42]\tvalidation_0-logloss:0.13141\n",
      "[43]\tvalidation_0-logloss:0.13047\n",
      "[44]\tvalidation_0-logloss:0.12993\n",
      "[45]\tvalidation_0-logloss:0.12947\n",
      "[46]\tvalidation_0-logloss:0.12918\n",
      "[47]\tvalidation_0-logloss:0.12874\n",
      "[48]\tvalidation_0-logloss:0.12809\n",
      "[49]\tvalidation_0-logloss:0.12774\n",
      "[50]\tvalidation_0-logloss:0.12719\n",
      "[51]\tvalidation_0-logloss:0.12693\n",
      "[52]\tvalidation_0-logloss:0.12676\n",
      "[53]\tvalidation_0-logloss:0.12630\n",
      "[54]\tvalidation_0-logloss:0.12607\n",
      "[55]\tvalidation_0-logloss:0.12583\n",
      "[56]\tvalidation_0-logloss:0.12544\n",
      "[57]\tvalidation_0-logloss:0.12529\n",
      "[58]\tvalidation_0-logloss:0.12516\n",
      "[59]\tvalidation_0-logloss:0.12485\n",
      "[60]\tvalidation_0-logloss:0.12470\n",
      "[61]\tvalidation_0-logloss:0.12462\n",
      "[62]\tvalidation_0-logloss:0.12435\n",
      "[63]\tvalidation_0-logloss:0.12420\n",
      "[64]\tvalidation_0-logloss:0.12400\n",
      "[65]\tvalidation_0-logloss:0.12390\n",
      "[66]\tvalidation_0-logloss:0.12382\n",
      "[67]\tvalidation_0-logloss:0.12372\n",
      "[68]\tvalidation_0-logloss:0.12362\n",
      "[69]\tvalidation_0-logloss:0.12356\n",
      "[70]\tvalidation_0-logloss:0.12339\n",
      "[71]\tvalidation_0-logloss:0.12334\n",
      "[72]\tvalidation_0-logloss:0.12327\n",
      "[73]\tvalidation_0-logloss:0.12320\n",
      "[74]\tvalidation_0-logloss:0.12305\n",
      "[75]\tvalidation_0-logloss:0.12294\n",
      "[76]\tvalidation_0-logloss:0.12289\n",
      "[77]\tvalidation_0-logloss:0.12281\n",
      "[78]\tvalidation_0-logloss:0.12274\n",
      "[79]\tvalidation_0-logloss:0.12268\n",
      "[80]\tvalidation_0-logloss:0.12268\n",
      "[81]\tvalidation_0-logloss:0.12264\n",
      "[82]\tvalidation_0-logloss:0.12260\n",
      "[83]\tvalidation_0-logloss:0.12256\n",
      "[84]\tvalidation_0-logloss:0.12253\n",
      "[85]\tvalidation_0-logloss:0.12246\n",
      "[86]\tvalidation_0-logloss:0.12240\n",
      "[87]\tvalidation_0-logloss:0.12238\n",
      "[88]\tvalidation_0-logloss:0.12234\n",
      "[89]\tvalidation_0-logloss:0.12231\n",
      "[90]\tvalidation_0-logloss:0.12229\n",
      "[91]\tvalidation_0-logloss:0.12226\n",
      "[92]\tvalidation_0-logloss:0.12224\n",
      "[93]\tvalidation_0-logloss:0.12220\n",
      "[94]\tvalidation_0-logloss:0.12219\n",
      "[95]\tvalidation_0-logloss:0.12217\n",
      "[96]\tvalidation_0-logloss:0.12218\n",
      "[97]\tvalidation_0-logloss:0.12211\n",
      "[98]\tvalidation_0-logloss:0.12209\n",
      "[99]\tvalidation_0-logloss:0.12208\n",
      "[100]\tvalidation_0-logloss:0.12209\n",
      "[101]\tvalidation_0-logloss:0.12203\n",
      "[102]\tvalidation_0-logloss:0.12201\n",
      "[103]\tvalidation_0-logloss:0.12196\n",
      "[104]\tvalidation_0-logloss:0.12195\n",
      "[105]\tvalidation_0-logloss:0.12190\n",
      "[106]\tvalidation_0-logloss:0.12191\n",
      "[107]\tvalidation_0-logloss:0.12190\n",
      "[108]\tvalidation_0-logloss:0.12189\n",
      "[109]\tvalidation_0-logloss:0.12188\n",
      "[110]\tvalidation_0-logloss:0.12187\n",
      "[111]\tvalidation_0-logloss:0.12187\n",
      "[112]\tvalidation_0-logloss:0.12184\n",
      "[113]\tvalidation_0-logloss:0.12184\n",
      "[114]\tvalidation_0-logloss:0.12183\n",
      "[115]\tvalidation_0-logloss:0.12182\n",
      "[116]\tvalidation_0-logloss:0.12182\n",
      "[117]\tvalidation_0-logloss:0.12180\n",
      "[118]\tvalidation_0-logloss:0.12178\n",
      "[119]\tvalidation_0-logloss:0.12179\n",
      "[120]\tvalidation_0-logloss:0.12178\n",
      "[121]\tvalidation_0-logloss:0.12177\n",
      "[122]\tvalidation_0-logloss:0.12175\n",
      "[123]\tvalidation_0-logloss:0.12170\n",
      "[124]\tvalidation_0-logloss:0.12170\n",
      "[125]\tvalidation_0-logloss:0.12168\n",
      "[126]\tvalidation_0-logloss:0.12166\n",
      "[127]\tvalidation_0-logloss:0.12163\n",
      "[128]\tvalidation_0-logloss:0.12162\n",
      "[129]\tvalidation_0-logloss:0.12157\n",
      "[130]\tvalidation_0-logloss:0.12151\n",
      "[131]\tvalidation_0-logloss:0.12147\n",
      "[132]\tvalidation_0-logloss:0.12145\n",
      "[133]\tvalidation_0-logloss:0.12143\n",
      "[134]\tvalidation_0-logloss:0.12143\n",
      "[135]\tvalidation_0-logloss:0.12133\n",
      "[136]\tvalidation_0-logloss:0.12132\n",
      "[137]\tvalidation_0-logloss:0.12131\n",
      "[138]\tvalidation_0-logloss:0.12130\n",
      "[139]\tvalidation_0-logloss:0.12130\n",
      "[140]\tvalidation_0-logloss:0.12133\n",
      "[141]\tvalidation_0-logloss:0.12133\n",
      "[142]\tvalidation_0-logloss:0.12133\n",
      "[143]\tvalidation_0-logloss:0.12133\n",
      "              precision    recall  f1-score   support\n",
      "\n",
      "           0       0.98      0.96      0.97     18300\n",
      "           1       0.66      0.82      0.73      1700\n",
      "\n",
      "    accuracy                           0.95     20000\n",
      "   macro avg       0.82      0.89      0.85     20000\n",
      "weighted avg       0.96      0.95      0.95     20000\n",
      "\n",
      "[[17581   719]\n",
      " [  303  1397]]\n"
     ]
    }
   ],
   "source": [
    "model_tuned = XGBClassifier(\n",
    "    n_estimators=400,\n",
    "    colsample_bytree=0.8,\n",
    "    learning_rate=0.1,\n",
    "    max_depth=6,\n",
    "    reg_alpha=0,\n",
    "    reg_lambda=10,\n",
    "    scale_pos_weight=5,\n",
    "    subsample=1.0,\n",
    "    eval_metric=\"logloss\", \n",
    "    early_stopping_rounds=5 \n",
    ").fit(X_train, y_train, eval_set=[(X_val, y_val)], verbose=True)\n",
    "\n",
    "y_pred = model_tuned.predict(X_test2)\n",
    "print(classification_report(y_test2, y_pred))\n",
    "print(confusion_matrix(y_test2, y_pred))"
   ]
  },
  {
   "cell_type": "markdown",
   "id": "a7d4210e-1913-454f-8df0-bff96fbf65df",
   "metadata": {},
   "source": [
    "## Modeling (Neural Network Alternative)\n",
    "In our first attempt, we used a tree-based model approach: `GradientBoostingClassifier`, which relies on decision trees. As an alternative to tree-based models, deep neural networks (DNN) can be employed. In this case, we're going to use Tensorflow library, so we must first import it."
   ]
  },
  {
   "cell_type": "code",
   "execution_count": 65,
   "id": "52080973-273e-4227-9c2b-6b821d489868",
   "metadata": {},
   "outputs": [],
   "source": [
    "import tensorflow as tf\n",
    "from tensorflow import keras\n",
    "from keras import layers"
   ]
  },
  {
   "cell_type": "markdown",
   "id": "ef1d55cc-f3bb-4676-8f5d-dc905ce26b97",
   "metadata": {},
   "source": [
    "To ensure we're working with the correct and integral data, we perform a fresh train-test split."
   ]
  },
  {
   "cell_type": "code",
   "execution_count": 27,
   "id": "b929013d-c9ed-4dc6-acc4-19e676c6ca86",
   "metadata": {},
   "outputs": [],
   "source": [
    "X_train, X_test, y_train, y_test = train_test_split(X_features, y, stratify=y)"
   ]
  },
  {
   "cell_type": "markdown",
   "id": "fc6df562-fc06-4ec3-94c0-f8bf77496034",
   "metadata": {},
   "source": [
    "Since our problem falls within the classification domain, we must be particularly cautious with multiple metrics beyond accuracy, such as minimizing false positives and maximizing true positives, which are much more relevant to a health-related application such as a diagnostic model. \n",
    "\n",
    "Therefore, we need to define which metrics are the most relevant for this application and keep track of them as the model learns."
   ]
  },
  {
   "cell_type": "code",
   "execution_count": 57,
   "id": "1f2030e5-3ce5-4602-aff5-6a653f093913",
   "metadata": {},
   "outputs": [],
   "source": [
    "relevant_classification_metrics = [\n",
    "      keras.metrics.TruePositives(name='tp'),\n",
    "      keras.metrics.FalsePositives(name='fp'),\n",
    "      keras.metrics.TrueNegatives(name='tn'),\n",
    "      keras.metrics.FalseNegatives(name='fn'), \n",
    "      keras.metrics.BinaryAccuracy(name='accuracy'),\n",
    "      keras.metrics.Precision(name='precision'),\n",
    "      keras.metrics.Recall(name='recall'),\n",
    "      keras.metrics.AUC(name='auc'),\n",
    "      keras.metrics.AUC(name='prc', curve='PR'), # precision-recall curve\n",
    "]"
   ]
  },
  {
   "cell_type": "markdown",
   "id": "19b56dda-3cf1-484f-b058-f967cef79547",
   "metadata": {},
   "source": [
    "Then we define the function that specifies the model's architecture, allowing us to instantiate multiple models to test alternative configurations (as we did with tree-based models)."
   ]
  },
  {
   "cell_type": "code",
   "execution_count": 38,
   "id": "41e7aa05-d5db-4e2b-9500-4f643c2022e3",
   "metadata": {},
   "outputs": [],
   "source": [
    "def build_model():\n",
    "    return tf.keras.Sequential([\n",
    "        layers.BatchNormalization(),\n",
    "        layers.Dense(units=X_train.shape[-1], activation='linear'),\n",
    "        layers.Dropout(0.3),\n",
    "        layers.Dense(units=64, activation='linear'),\n",
    "        layers.Dropout(0.3),\n",
    "        layers.Dense(units=256, activation='linear'),\n",
    "        layers.Dense(units=64, activation='linear'),\n",
    "        layers.Dense(units=1, activation='sigmoid'),\n",
    "    ])"
   ]
  },
  {
   "cell_type": "markdown",
   "id": "a2c0d51e-d500-4094-b786-ad694f58ab4e",
   "metadata": {},
   "source": [
    "We must also define some important parameters, such as the batch size (`batch_size`) and the maximum number of epochs(`epochs_max`) for the training. We can set a higher number of epochs, as we will use early stopping to prevent overfitting and avoid spending unnecessary time on training."
   ]
  },
  {
   "cell_type": "code",
   "execution_count": 39,
   "id": "04a4eb5f-3f51-41a5-acd1-e3800f5e35bb",
   "metadata": {},
   "outputs": [],
   "source": [
    "epochs_max = 100\n",
    "batch_size = 32\n",
    "\n",
    "early_stopping = tf.keras.callbacks.EarlyStopping(\n",
    "    monitor='val_prc', \n",
    "    verbose=1,\n",
    "    patience=5,\n",
    "    mode='max',\n",
    "    restore_best_weights=True)\n"
   ]
  },
  {
   "cell_type": "markdown",
   "id": "db56869e-95a8-4db6-9852-bda0bc2ee008",
   "metadata": {},
   "source": [
    "Finally, we can call our `build_model()` and compile the DNN model. Fitting a tensorflow model returns a history of the training, which we can keep in order to plot the model's training data (such as the loss on each epoch)."
   ]
  },
  {
   "cell_type": "markdown",
   "id": "499dec93-ad8e-480a-a716-9371026e32a3",
   "metadata": {},
   "source": [
    "### Baseline DNN Model"
   ]
  },
  {
   "cell_type": "code",
   "execution_count": null,
   "id": "228cdbe6-76cd-4caa-a5db-a98c03f65f53",
   "metadata": {},
   "outputs": [],
   "source": [
    "model_dnn_baseline = build_model()\n",
    "\n",
    "model_dnn_baseline.compile(\n",
    "      optimizer=keras.optimizers.Adam(learning_rate=1e-3),\n",
    "      loss=keras.losses.BinaryCrossentropy(),\n",
    "      metrics=relevant_classification_metrics\n",
    ")\n",
    "\n",
    "history_baseline = model_dnn_baseline.fit(\n",
    "    X_train, y_train,\n",
    "    batch_size=batch_size,\n",
    "    epochs=epochs_max,\n",
    "    callbacks=[early_stopping],\n",
    "    validation_data=(X_test, y_test)\n",
    ")"
   ]
  },
  {
   "cell_type": "markdown",
   "id": "993b2421-fc31-482f-84b2-576323635236",
   "metadata": {},
   "source": [
    "#### Evaluation\n",
    "Now we make predictions using the DNN-based model to evaluate its performance on the validation data. Comparing the results, even when changing the confidence threshold, we observed a slightly worse performance from the DNN-based approach."
   ]
  },
  {
   "cell_type": "code",
   "execution_count": 41,
   "id": "6c614604-a30b-4317-819e-0c47c4da5d0f",
   "metadata": {},
   "outputs": [
    {
     "name": "stdout",
     "output_type": "stream",
     "text": [
      "\u001b[1m782/782\u001b[0m \u001b[32m━━━━━━━━━━━━━━━━━━━━\u001b[0m\u001b[37m\u001b[0m \u001b[1m2s\u001b[0m 2ms/step\n",
      "              precision    recall  f1-score   support\n",
      "\n",
      "           0       0.97      0.99      0.98     22875\n",
      "           1       0.88      0.63      0.73      2125\n",
      "\n",
      "    accuracy                           0.96     25000\n",
      "   macro avg       0.92      0.81      0.85     25000\n",
      "weighted avg       0.96      0.96      0.96     25000\n",
      "\n",
      "[[22688   187]\n",
      " [  793  1332]]\n"
     ]
    }
   ],
   "source": [
    "y_pred_probs = model_dnn_baseline.predict(X_test)\n",
    "y_pred = (y_pred_probs > 0.5).astype(\"int32\")\n",
    "\n",
    "print(classification_report(y_test, y_pred))\n",
    "print(confusion_matrix(y_test, y_pred))"
   ]
  },
  {
   "cell_type": "code",
   "execution_count": 42,
   "id": "36bae2bc-cd2d-4c6f-b4f2-e26f3f6ab068",
   "metadata": {},
   "outputs": [
    {
     "name": "stdout",
     "output_type": "stream",
     "text": [
      "\u001b[1m782/782\u001b[0m \u001b[32m━━━━━━━━━━━━━━━━━━━━\u001b[0m\u001b[37m\u001b[0m \u001b[1m1s\u001b[0m 1ms/step\n",
      "              precision    recall  f1-score   support\n",
      "\n",
      "           0       0.97      0.97      0.97     22875\n",
      "           1       0.70      0.73      0.71      2125\n",
      "\n",
      "    accuracy                           0.95     25000\n",
      "   macro avg       0.84      0.85      0.84     25000\n",
      "weighted avg       0.95      0.95      0.95     25000\n",
      "\n",
      "[[22222   653]\n",
      " [  584  1541]]\n"
     ]
    }
   ],
   "source": [
    "y_pred_probs = model_dnn_baseline.predict(X_test)\n",
    "y_pred = (y_pred_probs > 0.3).astype(\"int32\")\n",
    "\n",
    "print(classification_report(y_test, y_pred))\n",
    "print(confusion_matrix(y_test, y_pred))"
   ]
  },
  {
   "cell_type": "markdown",
   "id": "65df14e9-a4d7-4fb1-9c99-6444c939e634",
   "metadata": {},
   "source": [
    "\n",
    "Therefore, if we had a larger dataset, the DNN approach would likely outperform the tree-based model due to its ability to learn more complex patterns. Given this characteristic, we will not repeat the undersampling test previously applied on the Tree-based approach. However, we will test an alternative version of the model trained with different class weights, as we did before."
   ]
  },
  {
   "cell_type": "markdown",
   "id": "3a49a2dc-465a-4a10-8d37-ebf6090e8ea5",
   "metadata": {},
   "source": [
    "### Alternative DNN Model (Using class weights)"
   ]
  },
  {
   "cell_type": "code",
   "execution_count": null,
   "id": "deb6787e-2150-4de4-98ca-a3f897071d37",
   "metadata": {},
   "outputs": [],
   "source": [
    "model_dnn_weighted = build_model()\n",
    "\n",
    "model_dnn_weighted.compile(\n",
    "      optimizer=keras.optimizers.Adam(learning_rate=1e-3),\n",
    "      loss=keras.losses.BinaryCrossentropy(),\n",
    "      metrics=relevant_classification_metrics\n",
    ")\n",
    "\n",
    "history_weighted = model_dnn_weighted.fit(\n",
    "    X_train, y_train,\n",
    "    batch_size=batch_size,\n",
    "    epochs=epochs_max,\n",
    "    callbacks=[early_stopping],\n",
    "    validation_data=(X_test, y_test),\n",
    "    class_weight={0: 1.0, 1: 5.0} # Applies a 5x higher weight to diabetic samples.\n",
    ")"
   ]
  },
  {
   "cell_type": "markdown",
   "id": "7226bfd4-2b53-43f5-8072-ea58c243f1c5",
   "metadata": {},
   "source": [
    "#### Evaluation\n",
    "As we saw before, with the tree-based models, the class weights in fact reduced the false negatives with the trade-off of incresing the false positives."
   ]
  },
  {
   "cell_type": "code",
   "execution_count": 35,
   "id": "0e42ccb8-1c53-47b9-97f0-526ed80bab73",
   "metadata": {},
   "outputs": [
    {
     "name": "stdout",
     "output_type": "stream",
     "text": [
      "\u001b[1m782/782\u001b[0m \u001b[32m━━━━━━━━━━━━━━━━━━━━\u001b[0m\u001b[37m\u001b[0m \u001b[1m2s\u001b[0m 2ms/step\n",
      "              precision    recall  f1-score   support\n",
      "\n",
      "           0       0.98      0.94      0.96     22875\n",
      "           1       0.55      0.80      0.65      2125\n",
      "\n",
      "    accuracy                           0.93     25000\n",
      "   macro avg       0.76      0.87      0.81     25000\n",
      "weighted avg       0.94      0.93      0.93     25000\n",
      "\n",
      "[[21469  1406]\n",
      " [  417  1708]]\n"
     ]
    }
   ],
   "source": [
    "y_pred_probs = model_dnn_weighted.predict(X_test)\n",
    "y_pred = (y_pred_probs > 0.5).astype(\"int32\")\n",
    "\n",
    "print(classification_report(y_test, y_pred))\n",
    "print(confusion_matrix(y_test, y_pred))"
   ]
  },
  {
   "cell_type": "code",
   "execution_count": 36,
   "id": "bad5c171-57b6-4093-9d65-75dabd4a30ad",
   "metadata": {},
   "outputs": [
    {
     "name": "stdout",
     "output_type": "stream",
     "text": [
      "\u001b[1m782/782\u001b[0m \u001b[32m━━━━━━━━━━━━━━━━━━━━\u001b[0m\u001b[37m\u001b[0m \u001b[1m1s\u001b[0m 2ms/step\n",
      "              precision    recall  f1-score   support\n",
      "\n",
      "           0       0.99      0.87      0.93     22875\n",
      "           1       0.39      0.88      0.54      2125\n",
      "\n",
      "    accuracy                           0.87     25000\n",
      "   macro avg       0.69      0.88      0.73     25000\n",
      "weighted avg       0.94      0.87      0.89     25000\n",
      "\n",
      "[[19951  2924]\n",
      " [  247  1878]]\n"
     ]
    }
   ],
   "source": [
    "y_pred_probs = model_dnn_weighted.predict(X_test)\n",
    "y_pred = (y_pred_probs > 0.3).astype(\"int32\")\n",
    "\n",
    "print(classification_report(y_test, y_pred))\n",
    "print(confusion_matrix(y_test, y_pred))"
   ]
  }
 ],
 "metadata": {
  "kernelspec": {
   "display_name": "Python 3 (ipykernel)",
   "language": "python",
   "name": "python3"
  },
  "language_info": {
   "codemirror_mode": {
    "name": "ipython",
    "version": 3
   },
   "file_extension": ".py",
   "mimetype": "text/x-python",
   "name": "python",
   "nbconvert_exporter": "python",
   "pygments_lexer": "ipython3",
   "version": "3.9.21"
  }
 },
 "nbformat": 4,
 "nbformat_minor": 5
}
